{
  "nbformat": 4,
  "nbformat_minor": 0,
  "metadata": {
    "colab": {
      "name": "FAKE_NEWS_DETECTION_main.ipynb",
      "provenance": [],
      "collapsed_sections": []
    },
    "kernelspec": {
      "name": "python3",
      "display_name": "Python 3"
    },
    "language_info": {
      "name": "python"
    }
  },
  "cells": [
    {
      "cell_type": "markdown",
      "metadata": {
        "id": "3Lyh6G4a4mlT"
      },
      "source": [
        "# **FAKE NEWS DETECTION**### "
      ]
    },
    {
      "cell_type": "markdown",
      "metadata": {
        "id": "KAicpsj1hpsT"
      },
      "source": [
        "By: \n",
        "Karri Sai Darshini  (E19CSE407),\n",
        "Pericherla Hemanth Varma (E19CSE390),\n",
        "Raghavendra Aasrith Dara (E19CSE210)"
      ]
    },
    {
      "cell_type": "markdown",
      "metadata": {
        "id": "H5aQscQaiS5U"
      },
      "source": [
        "### Importing required library\n",
        "Here we are going to importing some of the required library"
      ]
    },
    {
      "cell_type": "code",
      "metadata": {
        "id": "tt-wlnAH4R7y"
      },
      "source": [
        "import pandas as pd\n",
        "import numpy as np\n",
        "import seaborn as sns\n",
        "import matplotlib.pyplot as plt\n",
        "from sklearn.model_selection import train_test_split\n",
        "from sklearn.metrics import accuracy_score\n",
        "from sklearn.metrics import classification_report\n",
        "import re\n",
        "import string"
      ],
      "execution_count": null,
      "outputs": []
    },
    {
      "cell_type": "markdown",
      "metadata": {
        "id": "AHJbamg9iheh"
      },
      "source": [
        "### Inserting Datasets\n",
        "here we are going to inserting fake and true datasets"
      ]
    },
    {
      "cell_type": "code",
      "metadata": {
        "id": "12Udw_zSEccG"
      },
      "source": [
        "df_fake = pd.read_csv(\"Fake.csv\")\n",
        "df_true = pd.read_csv(\"True.csv\")"
      ],
      "execution_count": null,
      "outputs": []
    },
    {
      "cell_type": "code",
      "metadata": {
        "colab": {
          "base_uri": "https://localhost:8080/",
          "height": 1000
        },
        "id": "mk4Lbv6S7Fnn",
        "outputId": "0264a8ae-fcee-4168-d99e-9944ec771763"
      },
      "source": [
        "# displaying first 50 rows of true news dataset\n",
        "df_true.head(50)"
      ],
      "execution_count": null,
      "outputs": [
        {
          "output_type": "execute_result",
          "data": {
            "text/html": [
              "<div>\n",
              "<style scoped>\n",
              "    .dataframe tbody tr th:only-of-type {\n",
              "        vertical-align: middle;\n",
              "    }\n",
              "\n",
              "    .dataframe tbody tr th {\n",
              "        vertical-align: top;\n",
              "    }\n",
              "\n",
              "    .dataframe thead th {\n",
              "        text-align: right;\n",
              "    }\n",
              "</style>\n",
              "<table border=\"1\" class=\"dataframe\">\n",
              "  <thead>\n",
              "    <tr style=\"text-align: right;\">\n",
              "      <th></th>\n",
              "      <th>title</th>\n",
              "      <th>text</th>\n",
              "      <th>subject</th>\n",
              "      <th>date</th>\n",
              "      <th>class</th>\n",
              "    </tr>\n",
              "  </thead>\n",
              "  <tbody>\n",
              "    <tr>\n",
              "      <th>0</th>\n",
              "      <td>As U.S. budget fight looms, Republicans flip t...</td>\n",
              "      <td>WASHINGTON (Reuters) - The head of a conservat...</td>\n",
              "      <td>politicsNews</td>\n",
              "      <td>December 31, 2017</td>\n",
              "      <td>1</td>\n",
              "    </tr>\n",
              "    <tr>\n",
              "      <th>1</th>\n",
              "      <td>U.S. military to accept transgender recruits o...</td>\n",
              "      <td>WASHINGTON (Reuters) - Transgender people will...</td>\n",
              "      <td>politicsNews</td>\n",
              "      <td>December 29, 2017</td>\n",
              "      <td>1</td>\n",
              "    </tr>\n",
              "    <tr>\n",
              "      <th>2</th>\n",
              "      <td>Senior U.S. Republican senator: 'Let Mr. Muell...</td>\n",
              "      <td>WASHINGTON (Reuters) - The special counsel inv...</td>\n",
              "      <td>politicsNews</td>\n",
              "      <td>December 31, 2017</td>\n",
              "      <td>1</td>\n",
              "    </tr>\n",
              "    <tr>\n",
              "      <th>3</th>\n",
              "      <td>FBI Russia probe helped by Australian diplomat...</td>\n",
              "      <td>WASHINGTON (Reuters) - Trump campaign adviser ...</td>\n",
              "      <td>politicsNews</td>\n",
              "      <td>December 30, 2017</td>\n",
              "      <td>1</td>\n",
              "    </tr>\n",
              "    <tr>\n",
              "      <th>4</th>\n",
              "      <td>Trump wants Postal Service to charge 'much mor...</td>\n",
              "      <td>SEATTLE/WASHINGTON (Reuters) - President Donal...</td>\n",
              "      <td>politicsNews</td>\n",
              "      <td>December 29, 2017</td>\n",
              "      <td>1</td>\n",
              "    </tr>\n",
              "    <tr>\n",
              "      <th>5</th>\n",
              "      <td>White House, Congress prepare for talks on spe...</td>\n",
              "      <td>WEST PALM BEACH, Fla./WASHINGTON (Reuters) - T...</td>\n",
              "      <td>politicsNews</td>\n",
              "      <td>December 29, 2017</td>\n",
              "      <td>1</td>\n",
              "    </tr>\n",
              "    <tr>\n",
              "      <th>6</th>\n",
              "      <td>Trump says Russia probe will be fair, but time...</td>\n",
              "      <td>WEST PALM BEACH, Fla (Reuters) - President Don...</td>\n",
              "      <td>politicsNews</td>\n",
              "      <td>December 29, 2017</td>\n",
              "      <td>1</td>\n",
              "    </tr>\n",
              "    <tr>\n",
              "      <th>7</th>\n",
              "      <td>Factbox: Trump on Twitter (Dec 29) - Approval ...</td>\n",
              "      <td>The following statements were posted to the ve...</td>\n",
              "      <td>politicsNews</td>\n",
              "      <td>December 29, 2017</td>\n",
              "      <td>1</td>\n",
              "    </tr>\n",
              "    <tr>\n",
              "      <th>8</th>\n",
              "      <td>Trump on Twitter (Dec 28) - Global Warming</td>\n",
              "      <td>The following statements were posted to the ve...</td>\n",
              "      <td>politicsNews</td>\n",
              "      <td>December 29, 2017</td>\n",
              "      <td>1</td>\n",
              "    </tr>\n",
              "    <tr>\n",
              "      <th>9</th>\n",
              "      <td>Alabama official to certify Senator-elect Jone...</td>\n",
              "      <td>WASHINGTON (Reuters) - Alabama Secretary of St...</td>\n",
              "      <td>politicsNews</td>\n",
              "      <td>December 28, 2017</td>\n",
              "      <td>1</td>\n",
              "    </tr>\n",
              "    <tr>\n",
              "      <th>10</th>\n",
              "      <td>Jones certified U.S. Senate winner despite Moo...</td>\n",
              "      <td>(Reuters) - Alabama officials on Thursday cert...</td>\n",
              "      <td>politicsNews</td>\n",
              "      <td>December 28, 2017</td>\n",
              "      <td>1</td>\n",
              "    </tr>\n",
              "    <tr>\n",
              "      <th>11</th>\n",
              "      <td>New York governor questions the constitutional...</td>\n",
              "      <td>NEW YORK/WASHINGTON (Reuters) - The new U.S. t...</td>\n",
              "      <td>politicsNews</td>\n",
              "      <td>December 28, 2017</td>\n",
              "      <td>1</td>\n",
              "    </tr>\n",
              "    <tr>\n",
              "      <th>12</th>\n",
              "      <td>Factbox: Trump on Twitter (Dec 28) - Vanity Fa...</td>\n",
              "      <td>The following statements were posted to the ve...</td>\n",
              "      <td>politicsNews</td>\n",
              "      <td>December 28, 2017</td>\n",
              "      <td>1</td>\n",
              "    </tr>\n",
              "    <tr>\n",
              "      <th>13</th>\n",
              "      <td>Trump on Twitter (Dec 27) - Trump, Iraq, Syria</td>\n",
              "      <td>The following statements were posted to the ve...</td>\n",
              "      <td>politicsNews</td>\n",
              "      <td>December 28, 2017</td>\n",
              "      <td>1</td>\n",
              "    </tr>\n",
              "    <tr>\n",
              "      <th>14</th>\n",
              "      <td>Man says he delivered manure to Mnuchin to pro...</td>\n",
              "      <td>(In Dec. 25 story, in second paragraph, corre...</td>\n",
              "      <td>politicsNews</td>\n",
              "      <td>December 25, 2017</td>\n",
              "      <td>1</td>\n",
              "    </tr>\n",
              "    <tr>\n",
              "      <th>15</th>\n",
              "      <td>Virginia officials postpone lottery drawing to...</td>\n",
              "      <td>(Reuters) - A lottery drawing to settle a tied...</td>\n",
              "      <td>politicsNews</td>\n",
              "      <td>December 27, 2017</td>\n",
              "      <td>1</td>\n",
              "    </tr>\n",
              "    <tr>\n",
              "      <th>16</th>\n",
              "      <td>U.S. lawmakers question businessman at 2016 Tr...</td>\n",
              "      <td>WASHINGTON (Reuters) - A Georgian-American bus...</td>\n",
              "      <td>politicsNews</td>\n",
              "      <td>December 27, 2017</td>\n",
              "      <td>1</td>\n",
              "    </tr>\n",
              "    <tr>\n",
              "      <th>17</th>\n",
              "      <td>Trump on Twitter (Dec 26) - Hillary Clinton, T...</td>\n",
              "      <td>The following statements were posted to the ve...</td>\n",
              "      <td>politicsNews</td>\n",
              "      <td>December 26, 2017</td>\n",
              "      <td>1</td>\n",
              "    </tr>\n",
              "    <tr>\n",
              "      <th>18</th>\n",
              "      <td>U.S. appeals court rejects challenge to Trump ...</td>\n",
              "      <td>(Reuters) - A U.S. appeals court in Washington...</td>\n",
              "      <td>politicsNews</td>\n",
              "      <td>December 26, 2017</td>\n",
              "      <td>1</td>\n",
              "    </tr>\n",
              "    <tr>\n",
              "      <th>19</th>\n",
              "      <td>Treasury Secretary Mnuchin was sent gift-wrapp...</td>\n",
              "      <td>(Reuters) - A gift-wrapped package addressed t...</td>\n",
              "      <td>politicsNews</td>\n",
              "      <td>December 24, 2017</td>\n",
              "      <td>1</td>\n",
              "    </tr>\n",
              "    <tr>\n",
              "      <th>20</th>\n",
              "      <td>Federal judge partially lifts Trump's latest r...</td>\n",
              "      <td>WASHINGTON (Reuters) - A federal judge in Seat...</td>\n",
              "      <td>politicsNews</td>\n",
              "      <td>December 24, 2017</td>\n",
              "      <td>1</td>\n",
              "    </tr>\n",
              "    <tr>\n",
              "      <th>21</th>\n",
              "      <td>Exclusive: U.S. memo weakens guidelines for pr...</td>\n",
              "      <td>NEW YORK (Reuters) - The U.S. Justice Departme...</td>\n",
              "      <td>politicsNews</td>\n",
              "      <td>December 23, 2017</td>\n",
              "      <td>1</td>\n",
              "    </tr>\n",
              "    <tr>\n",
              "      <th>22</th>\n",
              "      <td>Trump travel ban should not apply to people wi...</td>\n",
              "      <td>(Reuters) - A U.S. appeals court on Friday sai...</td>\n",
              "      <td>politicsNews</td>\n",
              "      <td>December 23, 2017</td>\n",
              "      <td>1</td>\n",
              "    </tr>\n",
              "    <tr>\n",
              "      <th>23</th>\n",
              "      <td>Second court rejects Trump bid to stop transge...</td>\n",
              "      <td>WASHINGTON (Reuters) - A federal appeals court...</td>\n",
              "      <td>politicsNews</td>\n",
              "      <td>December 23, 2017</td>\n",
              "      <td>1</td>\n",
              "    </tr>\n",
              "    <tr>\n",
              "      <th>24</th>\n",
              "      <td>Failed vote to oust president shakes up Peru's...</td>\n",
              "      <td>LIMA (Reuters) - Peru’s President Pedro Pablo ...</td>\n",
              "      <td>politicsNews</td>\n",
              "      <td>December 23, 2017</td>\n",
              "      <td>1</td>\n",
              "    </tr>\n",
              "    <tr>\n",
              "      <th>25</th>\n",
              "      <td>Trump signs tax, government spending bills int...</td>\n",
              "      <td>WASHINGTON (Reuters) - U.S. President Donald T...</td>\n",
              "      <td>politicsNews</td>\n",
              "      <td>December 22, 2017</td>\n",
              "      <td>1</td>\n",
              "    </tr>\n",
              "    <tr>\n",
              "      <th>26</th>\n",
              "      <td>Companies have up to a year for new U.S. tax b...</td>\n",
              "      <td>WASHINGTON (Reuters) - U.S. financial regulato...</td>\n",
              "      <td>politicsNews</td>\n",
              "      <td>December 23, 2017</td>\n",
              "      <td>1</td>\n",
              "    </tr>\n",
              "    <tr>\n",
              "      <th>27</th>\n",
              "      <td>Trump on Twitter (Dec 22) - Tax cut, Missile d...</td>\n",
              "      <td>The following statements were posted to the ve...</td>\n",
              "      <td>politicsNews</td>\n",
              "      <td>December 22, 2017</td>\n",
              "      <td>1</td>\n",
              "    </tr>\n",
              "    <tr>\n",
              "      <th>28</th>\n",
              "      <td>Mexico to review need for tax changes after U....</td>\n",
              "      <td>MEXICO CITY (Reuters) - Mexico’s finance minis...</td>\n",
              "      <td>politicsNews</td>\n",
              "      <td>December 22, 2017</td>\n",
              "      <td>1</td>\n",
              "    </tr>\n",
              "    <tr>\n",
              "      <th>29</th>\n",
              "      <td>Senate leader McConnell sees a more collegial ...</td>\n",
              "      <td>WASHINGTON (Reuters) - U.S. Senate Majority Le...</td>\n",
              "      <td>politicsNews</td>\n",
              "      <td>December 22, 2017</td>\n",
              "      <td>1</td>\n",
              "    </tr>\n",
              "    <tr>\n",
              "      <th>30</th>\n",
              "      <td>Alabama to certify Democrat Jones winner of Se...</td>\n",
              "      <td>(Reuters) - Democrat Doug Jones’ surprise vict...</td>\n",
              "      <td>politicsNews</td>\n",
              "      <td>December 22, 2017</td>\n",
              "      <td>1</td>\n",
              "    </tr>\n",
              "    <tr>\n",
              "      <th>31</th>\n",
              "      <td>McConnell happier with Trump tweets after tax ...</td>\n",
              "      <td>WASHINGTON (Reuters) - A summer spat between P...</td>\n",
              "      <td>politicsNews</td>\n",
              "      <td>December 22, 2017</td>\n",
              "      <td>1</td>\n",
              "    </tr>\n",
              "    <tr>\n",
              "      <th>32</th>\n",
              "      <td>House panel asks Trump ex-top aide Bannon to t...</td>\n",
              "      <td>WASHINGTON (Reuters) - Steve Bannon, a former ...</td>\n",
              "      <td>politicsNews</td>\n",
              "      <td>December 22, 2017</td>\n",
              "      <td>1</td>\n",
              "    </tr>\n",
              "    <tr>\n",
              "      <th>33</th>\n",
              "      <td>Callista Gingrich becomes Trump's envoy to pop...</td>\n",
              "      <td>VATICAN CITY (Reuters) - Callista Gingrich, wi...</td>\n",
              "      <td>politicsNews</td>\n",
              "      <td>December 22, 2017</td>\n",
              "      <td>1</td>\n",
              "    </tr>\n",
              "    <tr>\n",
              "      <th>34</th>\n",
              "      <td>As Republicans aim to ride economy to election...</td>\n",
              "      <td>KING OF PRUSSIA, Pennsylvania/WASHINGTON (Reu...</td>\n",
              "      <td>politicsNews</td>\n",
              "      <td>December 22, 2017</td>\n",
              "      <td>1</td>\n",
              "    </tr>\n",
              "    <tr>\n",
              "      <th>35</th>\n",
              "      <td>Exclusive: State Department tells refugee agen...</td>\n",
              "      <td>(Reuters) - The U.S. State Department has told...</td>\n",
              "      <td>politicsNews</td>\n",
              "      <td>December 21, 2017</td>\n",
              "      <td>1</td>\n",
              "    </tr>\n",
              "    <tr>\n",
              "      <th>36</th>\n",
              "      <td>Congress votes to avert shutdown, sends Trump ...</td>\n",
              "      <td>WASHINGTON (Reuters) - The U.S. Congress on Th...</td>\n",
              "      <td>politicsNews</td>\n",
              "      <td>December 21, 2017</td>\n",
              "      <td>1</td>\n",
              "    </tr>\n",
              "    <tr>\n",
              "      <th>37</th>\n",
              "      <td>Factbox: Big-ticket items at center of Congres...</td>\n",
              "      <td>(Reuters) - The U.S. Congress on Thursday appr...</td>\n",
              "      <td>politicsNews</td>\n",
              "      <td>December 21, 2017</td>\n",
              "      <td>1</td>\n",
              "    </tr>\n",
              "    <tr>\n",
              "      <th>38</th>\n",
              "      <td>In victory for Trump, judge tosses suit on for...</td>\n",
              "      <td>NEW YORK (Reuters) - A federal judge in New Yo...</td>\n",
              "      <td>politicsNews</td>\n",
              "      <td>December 21, 2017</td>\n",
              "      <td>1</td>\n",
              "    </tr>\n",
              "    <tr>\n",
              "      <th>39</th>\n",
              "      <td>Senate shelves disaster aid bill until next month</td>\n",
              "      <td>WASHINGTON (Reuters) - Legislation to provide ...</td>\n",
              "      <td>politicsNews</td>\n",
              "      <td>December 22, 2017</td>\n",
              "      <td>1</td>\n",
              "    </tr>\n",
              "    <tr>\n",
              "      <th>40</th>\n",
              "      <td>Trump on Twitter (Dec 21) - Tax Cuts, Home sales</td>\n",
              "      <td>The following statements were posted to the ve...</td>\n",
              "      <td>politicsNews</td>\n",
              "      <td>December 21, 2017</td>\n",
              "      <td>1</td>\n",
              "    </tr>\n",
              "    <tr>\n",
              "      <th>41</th>\n",
              "      <td>House widens ethics probe to include Farenthol...</td>\n",
              "      <td>WASHINGTON (Reuters) - The ethics probe into U...</td>\n",
              "      <td>politicsNews</td>\n",
              "      <td>December 21, 2017</td>\n",
              "      <td>1</td>\n",
              "    </tr>\n",
              "    <tr>\n",
              "      <th>42</th>\n",
              "      <td>U.S. court rejects Trump bid to stop transgend...</td>\n",
              "      <td>NEW YORK (Reuters) - A federal appeals court i...</td>\n",
              "      <td>politicsNews</td>\n",
              "      <td>December 21, 2017</td>\n",
              "      <td>1</td>\n",
              "    </tr>\n",
              "    <tr>\n",
              "      <th>43</th>\n",
              "      <td>U.S. House approves $81 billion for disaster aid</td>\n",
              "      <td>WASHINGTON (Reuters) - The U.S. House of Repre...</td>\n",
              "      <td>politicsNews</td>\n",
              "      <td>December 21, 2017</td>\n",
              "      <td>1</td>\n",
              "    </tr>\n",
              "    <tr>\n",
              "      <th>44</th>\n",
              "      <td>House Democrats rally to protect Special Couns...</td>\n",
              "      <td>WASHINGTON (Reuters) - Democrats in the U.S. H...</td>\n",
              "      <td>politicsNews</td>\n",
              "      <td>December 21, 2017</td>\n",
              "      <td>1</td>\n",
              "    </tr>\n",
              "    <tr>\n",
              "      <th>45</th>\n",
              "      <td>Second U.S. judge blocks Trump administration ...</td>\n",
              "      <td>SAN FRANCISCO (Reuters) - A second U.S. judge ...</td>\n",
              "      <td>politicsNews</td>\n",
              "      <td>December 21, 2017</td>\n",
              "      <td>1</td>\n",
              "    </tr>\n",
              "    <tr>\n",
              "      <th>46</th>\n",
              "      <td>Senators seek to stop expansion of airport fac...</td>\n",
              "      <td>WASHINGTON (Reuters) - Two U.S. senators on Th...</td>\n",
              "      <td>politicsNews</td>\n",
              "      <td>December 21, 2017</td>\n",
              "      <td>1</td>\n",
              "    </tr>\n",
              "    <tr>\n",
              "      <th>47</th>\n",
              "      <td>U.S. launches effort to reduce reliance on imp...</td>\n",
              "      <td>WASHINGTON (Reuters) - U.S. Interior Secretary...</td>\n",
              "      <td>politicsNews</td>\n",
              "      <td>December 21, 2017</td>\n",
              "      <td>1</td>\n",
              "    </tr>\n",
              "    <tr>\n",
              "      <th>48</th>\n",
              "      <td>Short-term government funding, disaster aid bi...</td>\n",
              "      <td>WASHINGTON (Reuters) - The U.S. House of Repre...</td>\n",
              "      <td>politicsNews</td>\n",
              "      <td>December 21, 2017</td>\n",
              "      <td>1</td>\n",
              "    </tr>\n",
              "    <tr>\n",
              "      <th>49</th>\n",
              "      <td>Spy chiefs pressure Congress to renew expiring...</td>\n",
              "      <td>WASHINGTON (Reuters) - The leaders of the U.S....</td>\n",
              "      <td>politicsNews</td>\n",
              "      <td>December 21, 2017</td>\n",
              "      <td>1</td>\n",
              "    </tr>\n",
              "  </tbody>\n",
              "</table>\n",
              "</div>"
            ],
            "text/plain": [
              "                                                title  ... class\n",
              "0   As U.S. budget fight looms, Republicans flip t...  ...     1\n",
              "1   U.S. military to accept transgender recruits o...  ...     1\n",
              "2   Senior U.S. Republican senator: 'Let Mr. Muell...  ...     1\n",
              "3   FBI Russia probe helped by Australian diplomat...  ...     1\n",
              "4   Trump wants Postal Service to charge 'much mor...  ...     1\n",
              "5   White House, Congress prepare for talks on spe...  ...     1\n",
              "6   Trump says Russia probe will be fair, but time...  ...     1\n",
              "7   Factbox: Trump on Twitter (Dec 29) - Approval ...  ...     1\n",
              "8          Trump on Twitter (Dec 28) - Global Warming  ...     1\n",
              "9   Alabama official to certify Senator-elect Jone...  ...     1\n",
              "10  Jones certified U.S. Senate winner despite Moo...  ...     1\n",
              "11  New York governor questions the constitutional...  ...     1\n",
              "12  Factbox: Trump on Twitter (Dec 28) - Vanity Fa...  ...     1\n",
              "13     Trump on Twitter (Dec 27) - Trump, Iraq, Syria  ...     1\n",
              "14  Man says he delivered manure to Mnuchin to pro...  ...     1\n",
              "15  Virginia officials postpone lottery drawing to...  ...     1\n",
              "16  U.S. lawmakers question businessman at 2016 Tr...  ...     1\n",
              "17  Trump on Twitter (Dec 26) - Hillary Clinton, T...  ...     1\n",
              "18  U.S. appeals court rejects challenge to Trump ...  ...     1\n",
              "19  Treasury Secretary Mnuchin was sent gift-wrapp...  ...     1\n",
              "20  Federal judge partially lifts Trump's latest r...  ...     1\n",
              "21  Exclusive: U.S. memo weakens guidelines for pr...  ...     1\n",
              "22  Trump travel ban should not apply to people wi...  ...     1\n",
              "23  Second court rejects Trump bid to stop transge...  ...     1\n",
              "24  Failed vote to oust president shakes up Peru's...  ...     1\n",
              "25  Trump signs tax, government spending bills int...  ...     1\n",
              "26  Companies have up to a year for new U.S. tax b...  ...     1\n",
              "27  Trump on Twitter (Dec 22) - Tax cut, Missile d...  ...     1\n",
              "28  Mexico to review need for tax changes after U....  ...     1\n",
              "29  Senate leader McConnell sees a more collegial ...  ...     1\n",
              "30  Alabama to certify Democrat Jones winner of Se...  ...     1\n",
              "31  McConnell happier with Trump tweets after tax ...  ...     1\n",
              "32  House panel asks Trump ex-top aide Bannon to t...  ...     1\n",
              "33  Callista Gingrich becomes Trump's envoy to pop...  ...     1\n",
              "34  As Republicans aim to ride economy to election...  ...     1\n",
              "35  Exclusive: State Department tells refugee agen...  ...     1\n",
              "36  Congress votes to avert shutdown, sends Trump ...  ...     1\n",
              "37  Factbox: Big-ticket items at center of Congres...  ...     1\n",
              "38  In victory for Trump, judge tosses suit on for...  ...     1\n",
              "39  Senate shelves disaster aid bill until next month  ...     1\n",
              "40   Trump on Twitter (Dec 21) - Tax Cuts, Home sales  ...     1\n",
              "41  House widens ethics probe to include Farenthol...  ...     1\n",
              "42  U.S. court rejects Trump bid to stop transgend...  ...     1\n",
              "43   U.S. House approves $81 billion for disaster aid  ...     1\n",
              "44  House Democrats rally to protect Special Couns...  ...     1\n",
              "45  Second U.S. judge blocks Trump administration ...  ...     1\n",
              "46  Senators seek to stop expansion of airport fac...  ...     1\n",
              "47  U.S. launches effort to reduce reliance on imp...  ...     1\n",
              "48  Short-term government funding, disaster aid bi...  ...     1\n",
              "49  Spy chiefs pressure Congress to renew expiring...  ...     1\n",
              "\n",
              "[50 rows x 5 columns]"
            ]
          },
          "metadata": {},
          "execution_count": 65
        }
      ]
    },
    {
      "cell_type": "code",
      "metadata": {
        "colab": {
          "base_uri": "https://localhost:8080/",
          "height": 1000
        },
        "id": "XRhrqOtB7KJ_",
        "outputId": "d7bbd1c5-a5ea-49c1-b1a9-baa225348ea5"
      },
      "source": [
        "# displaying first 50 rows of fake news dataset\n",
        "df_fake.head(50)"
      ],
      "execution_count": null,
      "outputs": [
        {
          "output_type": "execute_result",
          "data": {
            "text/html": [
              "<div>\n",
              "<style scoped>\n",
              "    .dataframe tbody tr th:only-of-type {\n",
              "        vertical-align: middle;\n",
              "    }\n",
              "\n",
              "    .dataframe tbody tr th {\n",
              "        vertical-align: top;\n",
              "    }\n",
              "\n",
              "    .dataframe thead th {\n",
              "        text-align: right;\n",
              "    }\n",
              "</style>\n",
              "<table border=\"1\" class=\"dataframe\">\n",
              "  <thead>\n",
              "    <tr style=\"text-align: right;\">\n",
              "      <th></th>\n",
              "      <th>title</th>\n",
              "      <th>text</th>\n",
              "      <th>subject</th>\n",
              "      <th>date</th>\n",
              "      <th>class</th>\n",
              "    </tr>\n",
              "  </thead>\n",
              "  <tbody>\n",
              "    <tr>\n",
              "      <th>0</th>\n",
              "      <td>Donald Trump Sends Out Embarrassing New Year’...</td>\n",
              "      <td>Donald Trump just couldn t wish all Americans ...</td>\n",
              "      <td>News</td>\n",
              "      <td>December 31, 2017</td>\n",
              "      <td>0</td>\n",
              "    </tr>\n",
              "    <tr>\n",
              "      <th>1</th>\n",
              "      <td>Drunk Bragging Trump Staffer Started Russian ...</td>\n",
              "      <td>House Intelligence Committee Chairman Devin Nu...</td>\n",
              "      <td>News</td>\n",
              "      <td>December 31, 2017</td>\n",
              "      <td>0</td>\n",
              "    </tr>\n",
              "    <tr>\n",
              "      <th>2</th>\n",
              "      <td>Sheriff David Clarke Becomes An Internet Joke...</td>\n",
              "      <td>On Friday, it was revealed that former Milwauk...</td>\n",
              "      <td>News</td>\n",
              "      <td>December 30, 2017</td>\n",
              "      <td>0</td>\n",
              "    </tr>\n",
              "    <tr>\n",
              "      <th>3</th>\n",
              "      <td>Trump Is So Obsessed He Even Has Obama’s Name...</td>\n",
              "      <td>On Christmas day, Donald Trump announced that ...</td>\n",
              "      <td>News</td>\n",
              "      <td>December 29, 2017</td>\n",
              "      <td>0</td>\n",
              "    </tr>\n",
              "    <tr>\n",
              "      <th>4</th>\n",
              "      <td>Pope Francis Just Called Out Donald Trump Dur...</td>\n",
              "      <td>Pope Francis used his annual Christmas Day mes...</td>\n",
              "      <td>News</td>\n",
              "      <td>December 25, 2017</td>\n",
              "      <td>0</td>\n",
              "    </tr>\n",
              "    <tr>\n",
              "      <th>5</th>\n",
              "      <td>Racist Alabama Cops Brutalize Black Boy While...</td>\n",
              "      <td>The number of cases of cops brutalizing and ki...</td>\n",
              "      <td>News</td>\n",
              "      <td>December 25, 2017</td>\n",
              "      <td>0</td>\n",
              "    </tr>\n",
              "    <tr>\n",
              "      <th>6</th>\n",
              "      <td>Fresh Off The Golf Course, Trump Lashes Out A...</td>\n",
              "      <td>Donald Trump spent a good portion of his day a...</td>\n",
              "      <td>News</td>\n",
              "      <td>December 23, 2017</td>\n",
              "      <td>0</td>\n",
              "    </tr>\n",
              "    <tr>\n",
              "      <th>7</th>\n",
              "      <td>Trump Said Some INSANELY Racist Stuff Inside ...</td>\n",
              "      <td>In the wake of yet another court decision that...</td>\n",
              "      <td>News</td>\n",
              "      <td>December 23, 2017</td>\n",
              "      <td>0</td>\n",
              "    </tr>\n",
              "    <tr>\n",
              "      <th>8</th>\n",
              "      <td>Former CIA Director Slams Trump Over UN Bully...</td>\n",
              "      <td>Many people have raised the alarm regarding th...</td>\n",
              "      <td>News</td>\n",
              "      <td>December 22, 2017</td>\n",
              "      <td>0</td>\n",
              "    </tr>\n",
              "    <tr>\n",
              "      <th>9</th>\n",
              "      <td>WATCH: Brand-New Pro-Trump Ad Features So Muc...</td>\n",
              "      <td>Just when you might have thought we d get a br...</td>\n",
              "      <td>News</td>\n",
              "      <td>December 21, 2017</td>\n",
              "      <td>0</td>\n",
              "    </tr>\n",
              "    <tr>\n",
              "      <th>10</th>\n",
              "      <td>Papa John’s Founder Retires, Figures Out Raci...</td>\n",
              "      <td>A centerpiece of Donald Trump s campaign, and ...</td>\n",
              "      <td>News</td>\n",
              "      <td>December 21, 2017</td>\n",
              "      <td>0</td>\n",
              "    </tr>\n",
              "    <tr>\n",
              "      <th>11</th>\n",
              "      <td>WATCH: Paul Ryan Just Told Us He Doesn’t Care...</td>\n",
              "      <td>Republicans are working overtime trying to sel...</td>\n",
              "      <td>News</td>\n",
              "      <td>December 21, 2017</td>\n",
              "      <td>0</td>\n",
              "    </tr>\n",
              "    <tr>\n",
              "      <th>12</th>\n",
              "      <td>Bad News For Trump — Mitch McConnell Says No ...</td>\n",
              "      <td>Republicans have had seven years to come up wi...</td>\n",
              "      <td>News</td>\n",
              "      <td>December 21, 2017</td>\n",
              "      <td>0</td>\n",
              "    </tr>\n",
              "    <tr>\n",
              "      <th>13</th>\n",
              "      <td>WATCH: Lindsey Graham Trashes Media For Portr...</td>\n",
              "      <td>The media has been talking all day about Trump...</td>\n",
              "      <td>News</td>\n",
              "      <td>December 20, 2017</td>\n",
              "      <td>0</td>\n",
              "    </tr>\n",
              "    <tr>\n",
              "      <th>14</th>\n",
              "      <td>Heiress To Disney Empire Knows GOP Scammed Us...</td>\n",
              "      <td>Abigail Disney is an heiress with brass ovarie...</td>\n",
              "      <td>News</td>\n",
              "      <td>December 20, 2017</td>\n",
              "      <td>0</td>\n",
              "    </tr>\n",
              "    <tr>\n",
              "      <th>15</th>\n",
              "      <td>Tone Deaf Trump: Congrats Rep. Scalise On Los...</td>\n",
              "      <td>Donald Trump just signed the GOP tax scam into...</td>\n",
              "      <td>News</td>\n",
              "      <td>December 20, 2017</td>\n",
              "      <td>0</td>\n",
              "    </tr>\n",
              "    <tr>\n",
              "      <th>16</th>\n",
              "      <td>The Internet Brutally Mocks Disney’s New Trum...</td>\n",
              "      <td>A new animatronic figure in the Hall of Presid...</td>\n",
              "      <td>News</td>\n",
              "      <td>December 19, 2017</td>\n",
              "      <td>0</td>\n",
              "    </tr>\n",
              "    <tr>\n",
              "      <th>17</th>\n",
              "      <td>Mueller Spokesman Just F-cked Up Donald Trump...</td>\n",
              "      <td>Trump supporters and the so-called president s...</td>\n",
              "      <td>News</td>\n",
              "      <td>December 17, 2017</td>\n",
              "      <td>0</td>\n",
              "    </tr>\n",
              "    <tr>\n",
              "      <th>18</th>\n",
              "      <td>SNL Hilariously Mocks Accused Child Molester ...</td>\n",
              "      <td>Right now, the whole world is looking at the s...</td>\n",
              "      <td>News</td>\n",
              "      <td>December 17, 2017</td>\n",
              "      <td>0</td>\n",
              "    </tr>\n",
              "    <tr>\n",
              "      <th>19</th>\n",
              "      <td>Republican Senator Gets Dragged For Going Aft...</td>\n",
              "      <td>Senate Majority Whip John Cornyn (R-TX) though...</td>\n",
              "      <td>News</td>\n",
              "      <td>December 16, 2017</td>\n",
              "      <td>0</td>\n",
              "    </tr>\n",
              "    <tr>\n",
              "      <th>20</th>\n",
              "      <td>In A Heartless Rebuke To Victims, Trump Invit...</td>\n",
              "      <td>It almost seems like Donald Trump is trolling ...</td>\n",
              "      <td>News</td>\n",
              "      <td>December 16, 2017</td>\n",
              "      <td>0</td>\n",
              "    </tr>\n",
              "    <tr>\n",
              "      <th>21</th>\n",
              "      <td>KY GOP State Rep. Commits Suicide Over Allega...</td>\n",
              "      <td>In this #METOO moment, many powerful men are b...</td>\n",
              "      <td>News</td>\n",
              "      <td>December 13, 2017</td>\n",
              "      <td>0</td>\n",
              "    </tr>\n",
              "    <tr>\n",
              "      <th>22</th>\n",
              "      <td>Meghan McCain Tweets The Most AMAZING Respons...</td>\n",
              "      <td>As a Democrat won a Senate seat in deep-red Al...</td>\n",
              "      <td>News</td>\n",
              "      <td>December 12, 2017</td>\n",
              "      <td>0</td>\n",
              "    </tr>\n",
              "    <tr>\n",
              "      <th>23</th>\n",
              "      <td>CNN CALLS IT: A Democrat Will Represent Alaba...</td>\n",
              "      <td>Alabama is a notoriously deep red state. It s ...</td>\n",
              "      <td>News</td>\n",
              "      <td>December 12, 2017</td>\n",
              "      <td>0</td>\n",
              "    </tr>\n",
              "    <tr>\n",
              "      <th>24</th>\n",
              "      <td>White House: It Wasn’t Sexist For Trump To Sl...</td>\n",
              "      <td>A backlash ensued after Donald Trump launched ...</td>\n",
              "      <td>News</td>\n",
              "      <td>December 12, 2017</td>\n",
              "      <td>0</td>\n",
              "    </tr>\n",
              "    <tr>\n",
              "      <th>25</th>\n",
              "      <td>Despicable Trump Suggests Female Senator Woul...</td>\n",
              "      <td>Donald Trump is afraid of strong, powerful wom...</td>\n",
              "      <td>News</td>\n",
              "      <td>December 12, 2017</td>\n",
              "      <td>0</td>\n",
              "    </tr>\n",
              "    <tr>\n",
              "      <th>26</th>\n",
              "      <td>Accused Child Molesting Senate Candidate Roy ...</td>\n",
              "      <td>Ronald Reagan is largely seen as the Messiah o...</td>\n",
              "      <td>News</td>\n",
              "      <td>December 11, 2017</td>\n",
              "      <td>0</td>\n",
              "    </tr>\n",
              "    <tr>\n",
              "      <th>27</th>\n",
              "      <td>WATCH: Fox Host Calls For A ‘Cleansing’ Of Th...</td>\n",
              "      <td>Judge  Jeanine Pirro has continued her scream...</td>\n",
              "      <td>News</td>\n",
              "      <td>December 10, 2017</td>\n",
              "      <td>0</td>\n",
              "    </tr>\n",
              "    <tr>\n",
              "      <th>28</th>\n",
              "      <td>Liberal Group Trolls Trump At Roy Moore Rally...</td>\n",
              "      <td>Donald Trump held a rally for Alabama Senate c...</td>\n",
              "      <td>News</td>\n",
              "      <td>December 9, 2017</td>\n",
              "      <td>0</td>\n",
              "    </tr>\n",
              "    <tr>\n",
              "      <th>29</th>\n",
              "      <td>Don Jr. Tries To Mock Al Franken’s Resignatio...</td>\n",
              "      <td>When Sen. Al Franken (D-MN) announced his plan...</td>\n",
              "      <td>News</td>\n",
              "      <td>December 7, 2017</td>\n",
              "      <td>0</td>\n",
              "    </tr>\n",
              "    <tr>\n",
              "      <th>30</th>\n",
              "      <td>BREAKING: Cop Finally Gets His Due, Walter Sc...</td>\n",
              "      <td>In America, we have been having a conversation...</td>\n",
              "      <td>News</td>\n",
              "      <td>December 7, 2017</td>\n",
              "      <td>0</td>\n",
              "    </tr>\n",
              "    <tr>\n",
              "      <th>31</th>\n",
              "      <td>Watch: Is This Proof Trump Is Unfit for Service?</td>\n",
              "      <td>New questions are being asked about President ...</td>\n",
              "      <td>News</td>\n",
              "      <td>December 7, 2017</td>\n",
              "      <td>0</td>\n",
              "    </tr>\n",
              "    <tr>\n",
              "      <th>32</th>\n",
              "      <td>Trump Completely SCREWS The Middle East Peace...</td>\n",
              "      <td>On Wednesday, Donald Trump took a step no prev...</td>\n",
              "      <td>News</td>\n",
              "      <td>December 6, 2017</td>\n",
              "      <td>0</td>\n",
              "    </tr>\n",
              "    <tr>\n",
              "      <th>33</th>\n",
              "      <td>Trump Only Cares About Trump; Why He Is Recog...</td>\n",
              "      <td>President Donald Trump announced yesterday tha...</td>\n",
              "      <td>News</td>\n",
              "      <td>December 6, 2017</td>\n",
              "      <td>0</td>\n",
              "    </tr>\n",
              "    <tr>\n",
              "      <th>34</th>\n",
              "      <td>Watch: Trump Supporting Coal CEO Upset Trump ...</td>\n",
              "      <td>While on the campaign trail, Donald Trump prom...</td>\n",
              "      <td>News</td>\n",
              "      <td>December 6, 2017</td>\n",
              "      <td>0</td>\n",
              "    </tr>\n",
              "    <tr>\n",
              "      <th>35</th>\n",
              "      <td>Sitting GOP Senator Has Had ENOUGH, Donates T...</td>\n",
              "      <td>Arizona Republican Senator Jeff Flake has neve...</td>\n",
              "      <td>News</td>\n",
              "      <td>December 5, 2017</td>\n",
              "      <td>0</td>\n",
              "    </tr>\n",
              "    <tr>\n",
              "      <th>36</th>\n",
              "      <td>Republican National Committee: Better A Pedop...</td>\n",
              "      <td>By now, the whole world knows that Alabama Sen...</td>\n",
              "      <td>News</td>\n",
              "      <td>December 5, 2017</td>\n",
              "      <td>0</td>\n",
              "    </tr>\n",
              "    <tr>\n",
              "      <th>37</th>\n",
              "      <td>Donald Trump’s Eating Habits Could Be Dramati...</td>\n",
              "      <td>We ve all heard the stories of Donald Trump pr...</td>\n",
              "      <td>News</td>\n",
              "      <td>December 5, 2017</td>\n",
              "      <td>0</td>\n",
              "    </tr>\n",
              "    <tr>\n",
              "      <th>38</th>\n",
              "      <td>John McCain Wanted Another 74 Twitter Followe...</td>\n",
              "      <td>All Senator John McCain wanted to achieve on t...</td>\n",
              "      <td>News</td>\n",
              "      <td>December 5, 2017</td>\n",
              "      <td>0</td>\n",
              "    </tr>\n",
              "    <tr>\n",
              "      <th>39</th>\n",
              "      <td>This Sarah Huckabee Sanders Tweet About Attac...</td>\n",
              "      <td>Donald J. Trump spent a portion of his Sunday,...</td>\n",
              "      <td>News</td>\n",
              "      <td>December 4, 2017</td>\n",
              "      <td>0</td>\n",
              "    </tr>\n",
              "    <tr>\n",
              "      <th>40</th>\n",
              "      <td>FBI Agents Destroy Donald Trump After He Atta...</td>\n",
              "      <td>Donald Trump went on quite a tweetstorm this m...</td>\n",
              "      <td>News</td>\n",
              "      <td>December 3, 2017</td>\n",
              "      <td>0</td>\n",
              "    </tr>\n",
              "    <tr>\n",
              "      <th>41</th>\n",
              "      <td>‘Ghost Of Witness Flipped’: Hilarious SNL Ski...</td>\n",
              "      <td>By now, everyone knows that disgraced National...</td>\n",
              "      <td>News</td>\n",
              "      <td>December 3, 2017</td>\n",
              "      <td>0</td>\n",
              "    </tr>\n",
              "    <tr>\n",
              "      <th>42</th>\n",
              "      <td>Leaked Email Proves Trump Officials Aware Rus...</td>\n",
              "      <td>Donald Trump s current deputy national securit...</td>\n",
              "      <td>News</td>\n",
              "      <td>December 2, 2017</td>\n",
              "      <td>0</td>\n",
              "    </tr>\n",
              "    <tr>\n",
              "      <th>43</th>\n",
              "      <td>Trump Just Admitted He Knew Flynn Lied To The...</td>\n",
              "      <td>Donald Trump really should have taken his staf...</td>\n",
              "      <td>News</td>\n",
              "      <td>December 2, 2017</td>\n",
              "      <td>0</td>\n",
              "    </tr>\n",
              "    <tr>\n",
              "      <th>44</th>\n",
              "      <td>Watch This Awesome Mashup of Michael Flynn Le...</td>\n",
              "      <td>Donald Trump s disgraced National Security Adv...</td>\n",
              "      <td>News</td>\n",
              "      <td>December 1, 2017</td>\n",
              "      <td>0</td>\n",
              "    </tr>\n",
              "    <tr>\n",
              "      <th>45</th>\n",
              "      <td>White House Panics Knowing Flynn Is Going To ...</td>\n",
              "      <td>While Donald Trump has been taking vacations, ...</td>\n",
              "      <td>News</td>\n",
              "      <td>December 1, 2017</td>\n",
              "      <td>0</td>\n",
              "    </tr>\n",
              "    <tr>\n",
              "      <th>46</th>\n",
              "      <td>BREAKING: Michael Flynn CRACKS – Will Testify...</td>\n",
              "      <td>Michael Flynn, Trump s embattled former nation...</td>\n",
              "      <td>News</td>\n",
              "      <td>December 1, 2017</td>\n",
              "      <td>0</td>\n",
              "    </tr>\n",
              "    <tr>\n",
              "      <th>47</th>\n",
              "      <td>Trump Gets An Epic F**ck You From Britain Ove...</td>\n",
              "      <td>Donald Trump has a white supremacy problem, an...</td>\n",
              "      <td>News</td>\n",
              "      <td>December 1, 2017</td>\n",
              "      <td>0</td>\n",
              "    </tr>\n",
              "    <tr>\n",
              "      <th>48</th>\n",
              "      <td>This Hilarious Campaign Ad Shows Voters How T...</td>\n",
              "      <td>In Michigan, the upcoming election in 2018 pre...</td>\n",
              "      <td>News</td>\n",
              "      <td>November 30, 2017</td>\n",
              "      <td>0</td>\n",
              "    </tr>\n",
              "    <tr>\n",
              "      <th>49</th>\n",
              "      <td>Joe Scarborough: It’s Not Our Imagination – T...</td>\n",
              "      <td>People have long speculated about Donald Trump...</td>\n",
              "      <td>News</td>\n",
              "      <td>November 30, 2017</td>\n",
              "      <td>0</td>\n",
              "    </tr>\n",
              "  </tbody>\n",
              "</table>\n",
              "</div>"
            ],
            "text/plain": [
              "                                                title  ... class\n",
              "0    Donald Trump Sends Out Embarrassing New Year’...  ...     0\n",
              "1    Drunk Bragging Trump Staffer Started Russian ...  ...     0\n",
              "2    Sheriff David Clarke Becomes An Internet Joke...  ...     0\n",
              "3    Trump Is So Obsessed He Even Has Obama’s Name...  ...     0\n",
              "4    Pope Francis Just Called Out Donald Trump Dur...  ...     0\n",
              "5    Racist Alabama Cops Brutalize Black Boy While...  ...     0\n",
              "6    Fresh Off The Golf Course, Trump Lashes Out A...  ...     0\n",
              "7    Trump Said Some INSANELY Racist Stuff Inside ...  ...     0\n",
              "8    Former CIA Director Slams Trump Over UN Bully...  ...     0\n",
              "9    WATCH: Brand-New Pro-Trump Ad Features So Muc...  ...     0\n",
              "10   Papa John’s Founder Retires, Figures Out Raci...  ...     0\n",
              "11   WATCH: Paul Ryan Just Told Us He Doesn’t Care...  ...     0\n",
              "12   Bad News For Trump — Mitch McConnell Says No ...  ...     0\n",
              "13   WATCH: Lindsey Graham Trashes Media For Portr...  ...     0\n",
              "14   Heiress To Disney Empire Knows GOP Scammed Us...  ...     0\n",
              "15   Tone Deaf Trump: Congrats Rep. Scalise On Los...  ...     0\n",
              "16   The Internet Brutally Mocks Disney’s New Trum...  ...     0\n",
              "17   Mueller Spokesman Just F-cked Up Donald Trump...  ...     0\n",
              "18   SNL Hilariously Mocks Accused Child Molester ...  ...     0\n",
              "19   Republican Senator Gets Dragged For Going Aft...  ...     0\n",
              "20   In A Heartless Rebuke To Victims, Trump Invit...  ...     0\n",
              "21   KY GOP State Rep. Commits Suicide Over Allega...  ...     0\n",
              "22   Meghan McCain Tweets The Most AMAZING Respons...  ...     0\n",
              "23   CNN CALLS IT: A Democrat Will Represent Alaba...  ...     0\n",
              "24   White House: It Wasn’t Sexist For Trump To Sl...  ...     0\n",
              "25   Despicable Trump Suggests Female Senator Woul...  ...     0\n",
              "26   Accused Child Molesting Senate Candidate Roy ...  ...     0\n",
              "27   WATCH: Fox Host Calls For A ‘Cleansing’ Of Th...  ...     0\n",
              "28   Liberal Group Trolls Trump At Roy Moore Rally...  ...     0\n",
              "29   Don Jr. Tries To Mock Al Franken’s Resignatio...  ...     0\n",
              "30   BREAKING: Cop Finally Gets His Due, Walter Sc...  ...     0\n",
              "31   Watch: Is This Proof Trump Is Unfit for Service?  ...     0\n",
              "32   Trump Completely SCREWS The Middle East Peace...  ...     0\n",
              "33   Trump Only Cares About Trump; Why He Is Recog...  ...     0\n",
              "34   Watch: Trump Supporting Coal CEO Upset Trump ...  ...     0\n",
              "35   Sitting GOP Senator Has Had ENOUGH, Donates T...  ...     0\n",
              "36   Republican National Committee: Better A Pedop...  ...     0\n",
              "37   Donald Trump’s Eating Habits Could Be Dramati...  ...     0\n",
              "38   John McCain Wanted Another 74 Twitter Followe...  ...     0\n",
              "39   This Sarah Huckabee Sanders Tweet About Attac...  ...     0\n",
              "40   FBI Agents Destroy Donald Trump After He Atta...  ...     0\n",
              "41   ‘Ghost Of Witness Flipped’: Hilarious SNL Ski...  ...     0\n",
              "42   Leaked Email Proves Trump Officials Aware Rus...  ...     0\n",
              "43   Trump Just Admitted He Knew Flynn Lied To The...  ...     0\n",
              "44   Watch This Awesome Mashup of Michael Flynn Le...  ...     0\n",
              "45   White House Panics Knowing Flynn Is Going To ...  ...     0\n",
              "46   BREAKING: Michael Flynn CRACKS – Will Testify...  ...     0\n",
              "47   Trump Gets An Epic F**ck You From Britain Ove...  ...     0\n",
              "48   This Hilarious Campaign Ad Shows Voters How T...  ...     0\n",
              "49   Joe Scarborough: It’s Not Our Imagination – T...  ...     0\n",
              "\n",
              "[50 rows x 5 columns]"
            ]
          },
          "metadata": {},
          "execution_count": 66
        }
      ]
    },
    {
      "cell_type": "code",
      "metadata": {
        "colab": {
          "base_uri": "https://localhost:8080/",
          "height": 282
        },
        "id": "Yib6gt5et08W",
        "outputId": "87e8b8bf-746b-4879-fcb6-e0af333a9658"
      },
      "source": [
        "# heatmap of fake news dataset\n",
        "sns.heatmap(df_fake.isnull(), yticklabels=False,cbar=False)"
      ],
      "execution_count": null,
      "outputs": [
        {
          "output_type": "execute_result",
          "data": {
            "text/plain": [
              "<matplotlib.axes._subplots.AxesSubplot at 0x7fa35d61aa90>"
            ]
          },
          "metadata": {},
          "execution_count": 6
        },
        {
          "output_type": "display_data",
          "data": {
            "image/png": "[encoded data removed]",
            "text/plain": [
              "<Figure size 432x288 with 1 Axes>"
            ]
          },
          "metadata": {
            "needs_background": "light"
          }
        }
      ]
    },
    {
      "cell_type": "code",
      "metadata": {
        "colab": {
          "base_uri": "https://localhost:8080/",
          "height": 282
        },
        "id": "gmbK1_emuF6t",
        "outputId": "ca9dab7b-7bbf-46d6-beec-384c74598b7b"
      },
      "source": [
        "# heatmap of true news dataset\n",
        "sns.heatmap(df_true.isnull(), yticklabels=False,cbar=False)"
      ],
      "execution_count": null,
      "outputs": [
        {
          "output_type": "execute_result",
          "data": {
            "text/plain": [
              "<matplotlib.axes._subplots.AxesSubplot at 0x7fa3548fea90>"
            ]
          },
          "metadata": {},
          "execution_count": 7
        },
        {
          "output_type": "display_data",
          "data": {
            "image/png": "[encoded data removed]",
            "text/plain": [
              "<Figure size 432x288 with 1 Axes>"
            ]
          },
          "metadata": {
            "needs_background": "light"
          }
        }
      ]
    },
    {
      "cell_type": "markdown",
      "metadata": {
        "id": "VOpur6s8i3kW"
      },
      "source": [
        "To categorie fake and true news, we are inserting a column called \"class\" for fake and real news dataset "
      ]
    },
    {
      "cell_type": "code",
      "metadata": {
        "id": "IUVouwkI8a_u"
      },
      "source": [
        "\n",
        "df_fake[\"class\"] = 0\n",
        "df_true[\"class\"] = 1"
      ],
      "execution_count": null,
      "outputs": []
    },
    {
      "cell_type": "markdown",
      "metadata": {
        "id": "DsWi1QPojiiz"
      },
      "source": [
        "for Manual testing, we are removing last 10 rows from both the datasets "
      ]
    },
    {
      "cell_type": "code",
      "metadata": {
        "colab": {
          "base_uri": "https://localhost:8080/"
        },
        "id": "xGxA70eW7PLE",
        "outputId": "2f2cd8a9-1933-4aaf-bb36-434b4bf93c27"
      },
      "source": [
        "# shape of the dataset\n",
        "df_true.shape, df_fake.shape"
      ],
      "execution_count": null,
      "outputs": [
        {
          "output_type": "execute_result",
          "data": {
            "text/plain": [
              "((21417, 5), (23481, 5))"
            ]
          },
          "metadata": {},
          "execution_count": 9
        }
      ]
    },
    {
      "cell_type": "code",
      "metadata": {
        "id": "hhJQSCY48oa4"
      },
      "source": [
        "# loop for removing last 10 rows of datasets\n",
        "df_fake_manual_testing = df_fake.tail(10)\n",
        "for i in  range(23480,23470 -1):\n",
        "  df_fake.drop([i], axis=0, inplace=True)\n",
        "\n",
        "df_true_manual_testing = df_true.tail(10)\n",
        "for i in  range(21416,21406 -1):\n",
        "  df_true.drop([i], axis=0, inplace=True)  "
      ],
      "execution_count": null,
      "outputs": []
    },
    {
      "cell_type": "code",
      "metadata": {
        "colab": {
          "base_uri": "https://localhost:8080/"
        },
        "id": "0FnRMih1INh9",
        "outputId": "6e51b7d7-25f7-4e07-9d83-35fe02ba4ed7"
      },
      "source": [
        "df_fake.shape, df_true.shape"
      ],
      "execution_count": null,
      "outputs": [
        {
          "output_type": "execute_result",
          "data": {
            "text/plain": [
              "((23481, 5), (21417, 5))"
            ]
          },
          "metadata": {},
          "execution_count": 11
        }
      ]
    },
    {
      "cell_type": "markdown",
      "metadata": {
        "id": "jSMbX0SYkAXC"
      },
      "source": [
        "Merging the manual testing dataframe in single dataset and save it in a csv file"
      ]
    },
    {
      "cell_type": "code",
      "metadata": {
        "colab": {
          "base_uri": "https://localhost:8080/"
        },
        "id": "jR6F-MEZJADh",
        "outputId": "35cc4d2a-bf1b-4e9d-d902-d5a864d28563"
      },
      "source": [
        "df_fake_manual_testing[\"class\"] = 0\n",
        "df_true_manual_testing[\"class\"] = 1"
      ],
      "execution_count": null,
      "outputs": [
        {
          "output_type": "stream",
          "name": "stderr",
          "text": [
            "/usr/local/lib/python3.7/dist-packages/ipykernel_launcher.py:1: SettingWithCopyWarning: \n",
            "A value is trying to be set on a copy of a slice from a DataFrame.\n",
            "Try using .loc[row_indexer,col_indexer] = value instead\n",
            "\n",
            "See the caveats in the documentation: https://pandas.pydata.org/pandas-docs/stable/user_guide/indexing.html#returning-a-view-versus-a-copy\n",
            "  \"\"\"Entry point for launching an IPython kernel.\n",
            "/usr/local/lib/python3.7/dist-packages/ipykernel_launcher.py:2: SettingWithCopyWarning: \n",
            "A value is trying to be set on a copy of a slice from a DataFrame.\n",
            "Try using .loc[row_indexer,col_indexer] = value instead\n",
            "\n",
            "See the caveats in the documentation: https://pandas.pydata.org/pandas-docs/stable/user_guide/indexing.html#returning-a-view-versus-a-copy\n",
            "  \n"
          ]
        }
      ]
    },
    {
      "cell_type": "code",
      "metadata": {
        "colab": {
          "base_uri": "https://localhost:8080/",
          "height": 363
        },
        "id": "PCboRPfjJJtH",
        "outputId": "03ee5915-0fd6-496a-9e34-9787e45e0be1"
      },
      "source": [
        "df_fake_manual_testing.head(10)"
      ],
      "execution_count": null,
      "outputs": [
        {
          "output_type": "execute_result",
          "data": {
            "text/html": [
              "<div>\n",
              "<style scoped>\n",
              "    .dataframe tbody tr th:only-of-type {\n",
              "        vertical-align: middle;\n",
              "    }\n",
              "\n",
              "    .dataframe tbody tr th {\n",
              "        vertical-align: top;\n",
              "    }\n",
              "\n",
              "    .dataframe thead th {\n",
              "        text-align: right;\n",
              "    }\n",
              "</style>\n",
              "<table border=\"1\" class=\"dataframe\">\n",
              "  <thead>\n",
              "    <tr style=\"text-align: right;\">\n",
              "      <th></th>\n",
              "      <th>title</th>\n",
              "      <th>text</th>\n",
              "      <th>subject</th>\n",
              "      <th>date</th>\n",
              "      <th>class</th>\n",
              "    </tr>\n",
              "  </thead>\n",
              "  <tbody>\n",
              "    <tr>\n",
              "      <th>23471</th>\n",
              "      <td>Seven Iranians freed in the prisoner swap have...</td>\n",
              "      <td>21st Century Wire says This week, the historic...</td>\n",
              "      <td>Middle-east</td>\n",
              "      <td>January 20, 2016</td>\n",
              "      <td>0</td>\n",
              "    </tr>\n",
              "    <tr>\n",
              "      <th>23472</th>\n",
              "      <td>#Hashtag Hell &amp; The Fake Left</td>\n",
              "      <td>By Dady Chery and Gilbert MercierAll writers ...</td>\n",
              "      <td>Middle-east</td>\n",
              "      <td>January 19, 2016</td>\n",
              "      <td>0</td>\n",
              "    </tr>\n",
              "    <tr>\n",
              "      <th>23473</th>\n",
              "      <td>Astroturfing: Journalist Reveals Brainwashing ...</td>\n",
              "      <td>Vic Bishop Waking TimesOur reality is carefull...</td>\n",
              "      <td>Middle-east</td>\n",
              "      <td>January 19, 2016</td>\n",
              "      <td>0</td>\n",
              "    </tr>\n",
              "    <tr>\n",
              "      <th>23474</th>\n",
              "      <td>The New American Century: An Era of Fraud</td>\n",
              "      <td>Paul Craig RobertsIn the last years of the 20t...</td>\n",
              "      <td>Middle-east</td>\n",
              "      <td>January 19, 2016</td>\n",
              "      <td>0</td>\n",
              "    </tr>\n",
              "    <tr>\n",
              "      <th>23475</th>\n",
              "      <td>Hillary Clinton: ‘Israel First’ (and no peace ...</td>\n",
              "      <td>Robert Fantina CounterpunchAlthough the United...</td>\n",
              "      <td>Middle-east</td>\n",
              "      <td>January 18, 2016</td>\n",
              "      <td>0</td>\n",
              "    </tr>\n",
              "    <tr>\n",
              "      <th>23476</th>\n",
              "      <td>McPain: John McCain Furious That Iran Treated ...</td>\n",
              "      <td>21st Century Wire says As 21WIRE reported earl...</td>\n",
              "      <td>Middle-east</td>\n",
              "      <td>January 16, 2016</td>\n",
              "      <td>0</td>\n",
              "    </tr>\n",
              "    <tr>\n",
              "      <th>23477</th>\n",
              "      <td>JUSTICE? Yahoo Settles E-mail Privacy Class-ac...</td>\n",
              "      <td>21st Century Wire says It s a familiar theme. ...</td>\n",
              "      <td>Middle-east</td>\n",
              "      <td>January 16, 2016</td>\n",
              "      <td>0</td>\n",
              "    </tr>\n",
              "    <tr>\n",
              "      <th>23478</th>\n",
              "      <td>Sunnistan: US and Allied ‘Safe Zone’ Plan to T...</td>\n",
              "      <td>Patrick Henningsen  21st Century WireRemember ...</td>\n",
              "      <td>Middle-east</td>\n",
              "      <td>January 15, 2016</td>\n",
              "      <td>0</td>\n",
              "    </tr>\n",
              "    <tr>\n",
              "      <th>23479</th>\n",
              "      <td>How to Blow $700 Million: Al Jazeera America F...</td>\n",
              "      <td>21st Century Wire says Al Jazeera America will...</td>\n",
              "      <td>Middle-east</td>\n",
              "      <td>January 14, 2016</td>\n",
              "      <td>0</td>\n",
              "    </tr>\n",
              "    <tr>\n",
              "      <th>23480</th>\n",
              "      <td>10 U.S. Navy Sailors Held by Iranian Military ...</td>\n",
              "      <td>21st Century Wire says As 21WIRE predicted in ...</td>\n",
              "      <td>Middle-east</td>\n",
              "      <td>January 12, 2016</td>\n",
              "      <td>0</td>\n",
              "    </tr>\n",
              "  </tbody>\n",
              "</table>\n",
              "</div>"
            ],
            "text/plain": [
              "                                                   title  ... class\n",
              "23471  Seven Iranians freed in the prisoner swap have...  ...     0\n",
              "23472                      #Hashtag Hell & The Fake Left  ...     0\n",
              "23473  Astroturfing: Journalist Reveals Brainwashing ...  ...     0\n",
              "23474          The New American Century: An Era of Fraud  ...     0\n",
              "23475  Hillary Clinton: ‘Israel First’ (and no peace ...  ...     0\n",
              "23476  McPain: John McCain Furious That Iran Treated ...  ...     0\n",
              "23477  JUSTICE? Yahoo Settles E-mail Privacy Class-ac...  ...     0\n",
              "23478  Sunnistan: US and Allied ‘Safe Zone’ Plan to T...  ...     0\n",
              "23479  How to Blow $700 Million: Al Jazeera America F...  ...     0\n",
              "23480  10 U.S. Navy Sailors Held by Iranian Military ...  ...     0\n",
              "\n",
              "[10 rows x 5 columns]"
            ]
          },
          "metadata": {},
          "execution_count": 15
        }
      ]
    },
    {
      "cell_type": "code",
      "metadata": {
        "colab": {
          "base_uri": "https://localhost:8080/",
          "height": 363
        },
        "id": "eJaTT4chJT6M",
        "outputId": "8e336e5d-e009-4cc7-e4d3-dc9b5d30bedd"
      },
      "source": [
        "df_true_manual_testing.head(10)"
      ],
      "execution_count": null,
      "outputs": [
        {
          "output_type": "execute_result",
          "data": {
            "text/html": [
              "<div>\n",
              "<style scoped>\n",
              "    .dataframe tbody tr th:only-of-type {\n",
              "        vertical-align: middle;\n",
              "    }\n",
              "\n",
              "    .dataframe tbody tr th {\n",
              "        vertical-align: top;\n",
              "    }\n",
              "\n",
              "    .dataframe thead th {\n",
              "        text-align: right;\n",
              "    }\n",
              "</style>\n",
              "<table border=\"1\" class=\"dataframe\">\n",
              "  <thead>\n",
              "    <tr style=\"text-align: right;\">\n",
              "      <th></th>\n",
              "      <th>title</th>\n",
              "      <th>text</th>\n",
              "      <th>subject</th>\n",
              "      <th>date</th>\n",
              "      <th>class</th>\n",
              "    </tr>\n",
              "  </thead>\n",
              "  <tbody>\n",
              "    <tr>\n",
              "      <th>21407</th>\n",
              "      <td>Mata Pires, owner of embattled Brazil builder ...</td>\n",
              "      <td>SAO PAULO (Reuters) - Cesar Mata Pires, the ow...</td>\n",
              "      <td>worldnews</td>\n",
              "      <td>August 22, 2017</td>\n",
              "      <td>1</td>\n",
              "    </tr>\n",
              "    <tr>\n",
              "      <th>21408</th>\n",
              "      <td>U.S., North Korea clash at U.N. forum over nuc...</td>\n",
              "      <td>GENEVA (Reuters) - North Korea and the United ...</td>\n",
              "      <td>worldnews</td>\n",
              "      <td>August 22, 2017</td>\n",
              "      <td>1</td>\n",
              "    </tr>\n",
              "    <tr>\n",
              "      <th>21409</th>\n",
              "      <td>U.S., North Korea clash at U.N. arms forum on ...</td>\n",
              "      <td>GENEVA (Reuters) - North Korea and the United ...</td>\n",
              "      <td>worldnews</td>\n",
              "      <td>August 22, 2017</td>\n",
              "      <td>1</td>\n",
              "    </tr>\n",
              "    <tr>\n",
              "      <th>21410</th>\n",
              "      <td>Headless torso could belong to submarine journ...</td>\n",
              "      <td>COPENHAGEN (Reuters) - Danish police said on T...</td>\n",
              "      <td>worldnews</td>\n",
              "      <td>August 22, 2017</td>\n",
              "      <td>1</td>\n",
              "    </tr>\n",
              "    <tr>\n",
              "      <th>21411</th>\n",
              "      <td>North Korea shipments to Syria chemical arms a...</td>\n",
              "      <td>UNITED NATIONS (Reuters) - Two North Korean sh...</td>\n",
              "      <td>worldnews</td>\n",
              "      <td>August 21, 2017</td>\n",
              "      <td>1</td>\n",
              "    </tr>\n",
              "    <tr>\n",
              "      <th>21412</th>\n",
              "      <td>'Fully committed' NATO backs new U.S. approach...</td>\n",
              "      <td>BRUSSELS (Reuters) - NATO allies on Tuesday we...</td>\n",
              "      <td>worldnews</td>\n",
              "      <td>August 22, 2017</td>\n",
              "      <td>1</td>\n",
              "    </tr>\n",
              "    <tr>\n",
              "      <th>21413</th>\n",
              "      <td>LexisNexis withdrew two products from Chinese ...</td>\n",
              "      <td>LONDON (Reuters) - LexisNexis, a provider of l...</td>\n",
              "      <td>worldnews</td>\n",
              "      <td>August 22, 2017</td>\n",
              "      <td>1</td>\n",
              "    </tr>\n",
              "    <tr>\n",
              "      <th>21414</th>\n",
              "      <td>Minsk cultural hub becomes haven from authorities</td>\n",
              "      <td>MINSK (Reuters) - In the shadow of disused Sov...</td>\n",
              "      <td>worldnews</td>\n",
              "      <td>August 22, 2017</td>\n",
              "      <td>1</td>\n",
              "    </tr>\n",
              "    <tr>\n",
              "      <th>21415</th>\n",
              "      <td>Vatican upbeat on possibility of Pope Francis ...</td>\n",
              "      <td>MOSCOW (Reuters) - Vatican Secretary of State ...</td>\n",
              "      <td>worldnews</td>\n",
              "      <td>August 22, 2017</td>\n",
              "      <td>1</td>\n",
              "    </tr>\n",
              "    <tr>\n",
              "      <th>21416</th>\n",
              "      <td>Indonesia to buy $1.14 billion worth of Russia...</td>\n",
              "      <td>JAKARTA (Reuters) - Indonesia will buy 11 Sukh...</td>\n",
              "      <td>worldnews</td>\n",
              "      <td>August 22, 2017</td>\n",
              "      <td>1</td>\n",
              "    </tr>\n",
              "  </tbody>\n",
              "</table>\n",
              "</div>"
            ],
            "text/plain": [
              "                                                   title  ... class\n",
              "21407  Mata Pires, owner of embattled Brazil builder ...  ...     1\n",
              "21408  U.S., North Korea clash at U.N. forum over nuc...  ...     1\n",
              "21409  U.S., North Korea clash at U.N. arms forum on ...  ...     1\n",
              "21410  Headless torso could belong to submarine journ...  ...     1\n",
              "21411  North Korea shipments to Syria chemical arms a...  ...     1\n",
              "21412  'Fully committed' NATO backs new U.S. approach...  ...     1\n",
              "21413  LexisNexis withdrew two products from Chinese ...  ...     1\n",
              "21414  Minsk cultural hub becomes haven from authorities  ...     1\n",
              "21415  Vatican upbeat on possibility of Pope Francis ...  ...     1\n",
              "21416  Indonesia to buy $1.14 billion worth of Russia...  ...     1\n",
              "\n",
              "[10 rows x 5 columns]"
            ]
          },
          "metadata": {},
          "execution_count": 16
        }
      ]
    },
    {
      "cell_type": "code",
      "metadata": {
        "id": "7CT8uO7yJlWE"
      },
      "source": [
        "# we are merging both the manual testing datasets and saving is as manual_testing.csv\n",
        "df_manual_testing = pd.concat([df_fake_manual_testing,df_true_manual_testing], axis = 0)\n",
        "df_manual_testing.to_csv(\"manual_testing.csv\")"
      ],
      "execution_count": null,
      "outputs": []
    },
    {
      "cell_type": "markdown",
      "metadata": {
        "id": "3TWmsKZPkYrm"
      },
      "source": [
        "We are merging the main fake and true dataframe as df_merge"
      ]
    },
    {
      "cell_type": "code",
      "metadata": {
        "id": "QCG4ghhc_F2i",
        "colab": {
          "base_uri": "https://localhost:8080/",
          "height": 1000
        },
        "outputId": "2ea20284-eb7d-4b6f-f9c5-5d07b16b9110"
      },
      "source": [
        "df_marge = pd.concat([df_fake, df_true], axis =0 )\n",
        "df_marge.head(50)"
      ],
      "execution_count": null,
      "outputs": [
        {
          "output_type": "execute_result",
          "data": {
            "text/html": [
              "<div>\n",
              "<style scoped>\n",
              "    .dataframe tbody tr th:only-of-type {\n",
              "        vertical-align: middle;\n",
              "    }\n",
              "\n",
              "    .dataframe tbody tr th {\n",
              "        vertical-align: top;\n",
              "    }\n",
              "\n",
              "    .dataframe thead th {\n",
              "        text-align: right;\n",
              "    }\n",
              "</style>\n",
              "<table border=\"1\" class=\"dataframe\">\n",
              "  <thead>\n",
              "    <tr style=\"text-align: right;\">\n",
              "      <th></th>\n",
              "      <th>title</th>\n",
              "      <th>text</th>\n",
              "      <th>subject</th>\n",
              "      <th>date</th>\n",
              "      <th>class</th>\n",
              "    </tr>\n",
              "  </thead>\n",
              "  <tbody>\n",
              "    <tr>\n",
              "      <th>0</th>\n",
              "      <td>Donald Trump Sends Out Embarrassing New Year’...</td>\n",
              "      <td>Donald Trump just couldn t wish all Americans ...</td>\n",
              "      <td>News</td>\n",
              "      <td>December 31, 2017</td>\n",
              "      <td>0</td>\n",
              "    </tr>\n",
              "    <tr>\n",
              "      <th>1</th>\n",
              "      <td>Drunk Bragging Trump Staffer Started Russian ...</td>\n",
              "      <td>House Intelligence Committee Chairman Devin Nu...</td>\n",
              "      <td>News</td>\n",
              "      <td>December 31, 2017</td>\n",
              "      <td>0</td>\n",
              "    </tr>\n",
              "    <tr>\n",
              "      <th>2</th>\n",
              "      <td>Sheriff David Clarke Becomes An Internet Joke...</td>\n",
              "      <td>On Friday, it was revealed that former Milwauk...</td>\n",
              "      <td>News</td>\n",
              "      <td>December 30, 2017</td>\n",
              "      <td>0</td>\n",
              "    </tr>\n",
              "    <tr>\n",
              "      <th>3</th>\n",
              "      <td>Trump Is So Obsessed He Even Has Obama’s Name...</td>\n",
              "      <td>On Christmas day, Donald Trump announced that ...</td>\n",
              "      <td>News</td>\n",
              "      <td>December 29, 2017</td>\n",
              "      <td>0</td>\n",
              "    </tr>\n",
              "    <tr>\n",
              "      <th>4</th>\n",
              "      <td>Pope Francis Just Called Out Donald Trump Dur...</td>\n",
              "      <td>Pope Francis used his annual Christmas Day mes...</td>\n",
              "      <td>News</td>\n",
              "      <td>December 25, 2017</td>\n",
              "      <td>0</td>\n",
              "    </tr>\n",
              "    <tr>\n",
              "      <th>5</th>\n",
              "      <td>Racist Alabama Cops Brutalize Black Boy While...</td>\n",
              "      <td>The number of cases of cops brutalizing and ki...</td>\n",
              "      <td>News</td>\n",
              "      <td>December 25, 2017</td>\n",
              "      <td>0</td>\n",
              "    </tr>\n",
              "    <tr>\n",
              "      <th>6</th>\n",
              "      <td>Fresh Off The Golf Course, Trump Lashes Out A...</td>\n",
              "      <td>Donald Trump spent a good portion of his day a...</td>\n",
              "      <td>News</td>\n",
              "      <td>December 23, 2017</td>\n",
              "      <td>0</td>\n",
              "    </tr>\n",
              "    <tr>\n",
              "      <th>7</th>\n",
              "      <td>Trump Said Some INSANELY Racist Stuff Inside ...</td>\n",
              "      <td>In the wake of yet another court decision that...</td>\n",
              "      <td>News</td>\n",
              "      <td>December 23, 2017</td>\n",
              "      <td>0</td>\n",
              "    </tr>\n",
              "    <tr>\n",
              "      <th>8</th>\n",
              "      <td>Former CIA Director Slams Trump Over UN Bully...</td>\n",
              "      <td>Many people have raised the alarm regarding th...</td>\n",
              "      <td>News</td>\n",
              "      <td>December 22, 2017</td>\n",
              "      <td>0</td>\n",
              "    </tr>\n",
              "    <tr>\n",
              "      <th>9</th>\n",
              "      <td>WATCH: Brand-New Pro-Trump Ad Features So Muc...</td>\n",
              "      <td>Just when you might have thought we d get a br...</td>\n",
              "      <td>News</td>\n",
              "      <td>December 21, 2017</td>\n",
              "      <td>0</td>\n",
              "    </tr>\n",
              "    <tr>\n",
              "      <th>10</th>\n",
              "      <td>Papa John’s Founder Retires, Figures Out Raci...</td>\n",
              "      <td>A centerpiece of Donald Trump s campaign, and ...</td>\n",
              "      <td>News</td>\n",
              "      <td>December 21, 2017</td>\n",
              "      <td>0</td>\n",
              "    </tr>\n",
              "    <tr>\n",
              "      <th>11</th>\n",
              "      <td>WATCH: Paul Ryan Just Told Us He Doesn’t Care...</td>\n",
              "      <td>Republicans are working overtime trying to sel...</td>\n",
              "      <td>News</td>\n",
              "      <td>December 21, 2017</td>\n",
              "      <td>0</td>\n",
              "    </tr>\n",
              "    <tr>\n",
              "      <th>12</th>\n",
              "      <td>Bad News For Trump — Mitch McConnell Says No ...</td>\n",
              "      <td>Republicans have had seven years to come up wi...</td>\n",
              "      <td>News</td>\n",
              "      <td>December 21, 2017</td>\n",
              "      <td>0</td>\n",
              "    </tr>\n",
              "    <tr>\n",
              "      <th>13</th>\n",
              "      <td>WATCH: Lindsey Graham Trashes Media For Portr...</td>\n",
              "      <td>The media has been talking all day about Trump...</td>\n",
              "      <td>News</td>\n",
              "      <td>December 20, 2017</td>\n",
              "      <td>0</td>\n",
              "    </tr>\n",
              "    <tr>\n",
              "      <th>14</th>\n",
              "      <td>Heiress To Disney Empire Knows GOP Scammed Us...</td>\n",
              "      <td>Abigail Disney is an heiress with brass ovarie...</td>\n",
              "      <td>News</td>\n",
              "      <td>December 20, 2017</td>\n",
              "      <td>0</td>\n",
              "    </tr>\n",
              "    <tr>\n",
              "      <th>15</th>\n",
              "      <td>Tone Deaf Trump: Congrats Rep. Scalise On Los...</td>\n",
              "      <td>Donald Trump just signed the GOP tax scam into...</td>\n",
              "      <td>News</td>\n",
              "      <td>December 20, 2017</td>\n",
              "      <td>0</td>\n",
              "    </tr>\n",
              "    <tr>\n",
              "      <th>16</th>\n",
              "      <td>The Internet Brutally Mocks Disney’s New Trum...</td>\n",
              "      <td>A new animatronic figure in the Hall of Presid...</td>\n",
              "      <td>News</td>\n",
              "      <td>December 19, 2017</td>\n",
              "      <td>0</td>\n",
              "    </tr>\n",
              "    <tr>\n",
              "      <th>17</th>\n",
              "      <td>Mueller Spokesman Just F-cked Up Donald Trump...</td>\n",
              "      <td>Trump supporters and the so-called president s...</td>\n",
              "      <td>News</td>\n",
              "      <td>December 17, 2017</td>\n",
              "      <td>0</td>\n",
              "    </tr>\n",
              "    <tr>\n",
              "      <th>18</th>\n",
              "      <td>SNL Hilariously Mocks Accused Child Molester ...</td>\n",
              "      <td>Right now, the whole world is looking at the s...</td>\n",
              "      <td>News</td>\n",
              "      <td>December 17, 2017</td>\n",
              "      <td>0</td>\n",
              "    </tr>\n",
              "    <tr>\n",
              "      <th>19</th>\n",
              "      <td>Republican Senator Gets Dragged For Going Aft...</td>\n",
              "      <td>Senate Majority Whip John Cornyn (R-TX) though...</td>\n",
              "      <td>News</td>\n",
              "      <td>December 16, 2017</td>\n",
              "      <td>0</td>\n",
              "    </tr>\n",
              "    <tr>\n",
              "      <th>20</th>\n",
              "      <td>In A Heartless Rebuke To Victims, Trump Invit...</td>\n",
              "      <td>It almost seems like Donald Trump is trolling ...</td>\n",
              "      <td>News</td>\n",
              "      <td>December 16, 2017</td>\n",
              "      <td>0</td>\n",
              "    </tr>\n",
              "    <tr>\n",
              "      <th>21</th>\n",
              "      <td>KY GOP State Rep. Commits Suicide Over Allega...</td>\n",
              "      <td>In this #METOO moment, many powerful men are b...</td>\n",
              "      <td>News</td>\n",
              "      <td>December 13, 2017</td>\n",
              "      <td>0</td>\n",
              "    </tr>\n",
              "    <tr>\n",
              "      <th>22</th>\n",
              "      <td>Meghan McCain Tweets The Most AMAZING Respons...</td>\n",
              "      <td>As a Democrat won a Senate seat in deep-red Al...</td>\n",
              "      <td>News</td>\n",
              "      <td>December 12, 2017</td>\n",
              "      <td>0</td>\n",
              "    </tr>\n",
              "    <tr>\n",
              "      <th>23</th>\n",
              "      <td>CNN CALLS IT: A Democrat Will Represent Alaba...</td>\n",
              "      <td>Alabama is a notoriously deep red state. It s ...</td>\n",
              "      <td>News</td>\n",
              "      <td>December 12, 2017</td>\n",
              "      <td>0</td>\n",
              "    </tr>\n",
              "    <tr>\n",
              "      <th>24</th>\n",
              "      <td>White House: It Wasn’t Sexist For Trump To Sl...</td>\n",
              "      <td>A backlash ensued after Donald Trump launched ...</td>\n",
              "      <td>News</td>\n",
              "      <td>December 12, 2017</td>\n",
              "      <td>0</td>\n",
              "    </tr>\n",
              "    <tr>\n",
              "      <th>25</th>\n",
              "      <td>Despicable Trump Suggests Female Senator Woul...</td>\n",
              "      <td>Donald Trump is afraid of strong, powerful wom...</td>\n",
              "      <td>News</td>\n",
              "      <td>December 12, 2017</td>\n",
              "      <td>0</td>\n",
              "    </tr>\n",
              "    <tr>\n",
              "      <th>26</th>\n",
              "      <td>Accused Child Molesting Senate Candidate Roy ...</td>\n",
              "      <td>Ronald Reagan is largely seen as the Messiah o...</td>\n",
              "      <td>News</td>\n",
              "      <td>December 11, 2017</td>\n",
              "      <td>0</td>\n",
              "    </tr>\n",
              "    <tr>\n",
              "      <th>27</th>\n",
              "      <td>WATCH: Fox Host Calls For A ‘Cleansing’ Of Th...</td>\n",
              "      <td>Judge  Jeanine Pirro has continued her scream...</td>\n",
              "      <td>News</td>\n",
              "      <td>December 10, 2017</td>\n",
              "      <td>0</td>\n",
              "    </tr>\n",
              "    <tr>\n",
              "      <th>28</th>\n",
              "      <td>Liberal Group Trolls Trump At Roy Moore Rally...</td>\n",
              "      <td>Donald Trump held a rally for Alabama Senate c...</td>\n",
              "      <td>News</td>\n",
              "      <td>December 9, 2017</td>\n",
              "      <td>0</td>\n",
              "    </tr>\n",
              "    <tr>\n",
              "      <th>29</th>\n",
              "      <td>Don Jr. Tries To Mock Al Franken’s Resignatio...</td>\n",
              "      <td>When Sen. Al Franken (D-MN) announced his plan...</td>\n",
              "      <td>News</td>\n",
              "      <td>December 7, 2017</td>\n",
              "      <td>0</td>\n",
              "    </tr>\n",
              "    <tr>\n",
              "      <th>30</th>\n",
              "      <td>BREAKING: Cop Finally Gets His Due, Walter Sc...</td>\n",
              "      <td>In America, we have been having a conversation...</td>\n",
              "      <td>News</td>\n",
              "      <td>December 7, 2017</td>\n",
              "      <td>0</td>\n",
              "    </tr>\n",
              "    <tr>\n",
              "      <th>31</th>\n",
              "      <td>Watch: Is This Proof Trump Is Unfit for Service?</td>\n",
              "      <td>New questions are being asked about President ...</td>\n",
              "      <td>News</td>\n",
              "      <td>December 7, 2017</td>\n",
              "      <td>0</td>\n",
              "    </tr>\n",
              "    <tr>\n",
              "      <th>32</th>\n",
              "      <td>Trump Completely SCREWS The Middle East Peace...</td>\n",
              "      <td>On Wednesday, Donald Trump took a step no prev...</td>\n",
              "      <td>News</td>\n",
              "      <td>December 6, 2017</td>\n",
              "      <td>0</td>\n",
              "    </tr>\n",
              "    <tr>\n",
              "      <th>33</th>\n",
              "      <td>Trump Only Cares About Trump; Why He Is Recog...</td>\n",
              "      <td>President Donald Trump announced yesterday tha...</td>\n",
              "      <td>News</td>\n",
              "      <td>December 6, 2017</td>\n",
              "      <td>0</td>\n",
              "    </tr>\n",
              "    <tr>\n",
              "      <th>34</th>\n",
              "      <td>Watch: Trump Supporting Coal CEO Upset Trump ...</td>\n",
              "      <td>While on the campaign trail, Donald Trump prom...</td>\n",
              "      <td>News</td>\n",
              "      <td>December 6, 2017</td>\n",
              "      <td>0</td>\n",
              "    </tr>\n",
              "    <tr>\n",
              "      <th>35</th>\n",
              "      <td>Sitting GOP Senator Has Had ENOUGH, Donates T...</td>\n",
              "      <td>Arizona Republican Senator Jeff Flake has neve...</td>\n",
              "      <td>News</td>\n",
              "      <td>December 5, 2017</td>\n",
              "      <td>0</td>\n",
              "    </tr>\n",
              "    <tr>\n",
              "      <th>36</th>\n",
              "      <td>Republican National Committee: Better A Pedop...</td>\n",
              "      <td>By now, the whole world knows that Alabama Sen...</td>\n",
              "      <td>News</td>\n",
              "      <td>December 5, 2017</td>\n",
              "      <td>0</td>\n",
              "    </tr>\n",
              "    <tr>\n",
              "      <th>37</th>\n",
              "      <td>Donald Trump’s Eating Habits Could Be Dramati...</td>\n",
              "      <td>We ve all heard the stories of Donald Trump pr...</td>\n",
              "      <td>News</td>\n",
              "      <td>December 5, 2017</td>\n",
              "      <td>0</td>\n",
              "    </tr>\n",
              "    <tr>\n",
              "      <th>38</th>\n",
              "      <td>John McCain Wanted Another 74 Twitter Followe...</td>\n",
              "      <td>All Senator John McCain wanted to achieve on t...</td>\n",
              "      <td>News</td>\n",
              "      <td>December 5, 2017</td>\n",
              "      <td>0</td>\n",
              "    </tr>\n",
              "    <tr>\n",
              "      <th>39</th>\n",
              "      <td>This Sarah Huckabee Sanders Tweet About Attac...</td>\n",
              "      <td>Donald J. Trump spent a portion of his Sunday,...</td>\n",
              "      <td>News</td>\n",
              "      <td>December 4, 2017</td>\n",
              "      <td>0</td>\n",
              "    </tr>\n",
              "    <tr>\n",
              "      <th>40</th>\n",
              "      <td>FBI Agents Destroy Donald Trump After He Atta...</td>\n",
              "      <td>Donald Trump went on quite a tweetstorm this m...</td>\n",
              "      <td>News</td>\n",
              "      <td>December 3, 2017</td>\n",
              "      <td>0</td>\n",
              "    </tr>\n",
              "    <tr>\n",
              "      <th>41</th>\n",
              "      <td>‘Ghost Of Witness Flipped’: Hilarious SNL Ski...</td>\n",
              "      <td>By now, everyone knows that disgraced National...</td>\n",
              "      <td>News</td>\n",
              "      <td>December 3, 2017</td>\n",
              "      <td>0</td>\n",
              "    </tr>\n",
              "    <tr>\n",
              "      <th>42</th>\n",
              "      <td>Leaked Email Proves Trump Officials Aware Rus...</td>\n",
              "      <td>Donald Trump s current deputy national securit...</td>\n",
              "      <td>News</td>\n",
              "      <td>December 2, 2017</td>\n",
              "      <td>0</td>\n",
              "    </tr>\n",
              "    <tr>\n",
              "      <th>43</th>\n",
              "      <td>Trump Just Admitted He Knew Flynn Lied To The...</td>\n",
              "      <td>Donald Trump really should have taken his staf...</td>\n",
              "      <td>News</td>\n",
              "      <td>December 2, 2017</td>\n",
              "      <td>0</td>\n",
              "    </tr>\n",
              "    <tr>\n",
              "      <th>44</th>\n",
              "      <td>Watch This Awesome Mashup of Michael Flynn Le...</td>\n",
              "      <td>Donald Trump s disgraced National Security Adv...</td>\n",
              "      <td>News</td>\n",
              "      <td>December 1, 2017</td>\n",
              "      <td>0</td>\n",
              "    </tr>\n",
              "    <tr>\n",
              "      <th>45</th>\n",
              "      <td>White House Panics Knowing Flynn Is Going To ...</td>\n",
              "      <td>While Donald Trump has been taking vacations, ...</td>\n",
              "      <td>News</td>\n",
              "      <td>December 1, 2017</td>\n",
              "      <td>0</td>\n",
              "    </tr>\n",
              "    <tr>\n",
              "      <th>46</th>\n",
              "      <td>BREAKING: Michael Flynn CRACKS – Will Testify...</td>\n",
              "      <td>Michael Flynn, Trump s embattled former nation...</td>\n",
              "      <td>News</td>\n",
              "      <td>December 1, 2017</td>\n",
              "      <td>0</td>\n",
              "    </tr>\n",
              "    <tr>\n",
              "      <th>47</th>\n",
              "      <td>Trump Gets An Epic F**ck You From Britain Ove...</td>\n",
              "      <td>Donald Trump has a white supremacy problem, an...</td>\n",
              "      <td>News</td>\n",
              "      <td>December 1, 2017</td>\n",
              "      <td>0</td>\n",
              "    </tr>\n",
              "    <tr>\n",
              "      <th>48</th>\n",
              "      <td>This Hilarious Campaign Ad Shows Voters How T...</td>\n",
              "      <td>In Michigan, the upcoming election in 2018 pre...</td>\n",
              "      <td>News</td>\n",
              "      <td>November 30, 2017</td>\n",
              "      <td>0</td>\n",
              "    </tr>\n",
              "    <tr>\n",
              "      <th>49</th>\n",
              "      <td>Joe Scarborough: It’s Not Our Imagination – T...</td>\n",
              "      <td>People have long speculated about Donald Trump...</td>\n",
              "      <td>News</td>\n",
              "      <td>November 30, 2017</td>\n",
              "      <td>0</td>\n",
              "    </tr>\n",
              "  </tbody>\n",
              "</table>\n",
              "</div>"
            ],
            "text/plain": [
              "                                                title  ... class\n",
              "0    Donald Trump Sends Out Embarrassing New Year’...  ...     0\n",
              "1    Drunk Bragging Trump Staffer Started Russian ...  ...     0\n",
              "2    Sheriff David Clarke Becomes An Internet Joke...  ...     0\n",
              "3    Trump Is So Obsessed He Even Has Obama’s Name...  ...     0\n",
              "4    Pope Francis Just Called Out Donald Trump Dur...  ...     0\n",
              "5    Racist Alabama Cops Brutalize Black Boy While...  ...     0\n",
              "6    Fresh Off The Golf Course, Trump Lashes Out A...  ...     0\n",
              "7    Trump Said Some INSANELY Racist Stuff Inside ...  ...     0\n",
              "8    Former CIA Director Slams Trump Over UN Bully...  ...     0\n",
              "9    WATCH: Brand-New Pro-Trump Ad Features So Muc...  ...     0\n",
              "10   Papa John’s Founder Retires, Figures Out Raci...  ...     0\n",
              "11   WATCH: Paul Ryan Just Told Us He Doesn’t Care...  ...     0\n",
              "12   Bad News For Trump — Mitch McConnell Says No ...  ...     0\n",
              "13   WATCH: Lindsey Graham Trashes Media For Portr...  ...     0\n",
              "14   Heiress To Disney Empire Knows GOP Scammed Us...  ...     0\n",
              "15   Tone Deaf Trump: Congrats Rep. Scalise On Los...  ...     0\n",
              "16   The Internet Brutally Mocks Disney’s New Trum...  ...     0\n",
              "17   Mueller Spokesman Just F-cked Up Donald Trump...  ...     0\n",
              "18   SNL Hilariously Mocks Accused Child Molester ...  ...     0\n",
              "19   Republican Senator Gets Dragged For Going Aft...  ...     0\n",
              "20   In A Heartless Rebuke To Victims, Trump Invit...  ...     0\n",
              "21   KY GOP State Rep. Commits Suicide Over Allega...  ...     0\n",
              "22   Meghan McCain Tweets The Most AMAZING Respons...  ...     0\n",
              "23   CNN CALLS IT: A Democrat Will Represent Alaba...  ...     0\n",
              "24   White House: It Wasn’t Sexist For Trump To Sl...  ...     0\n",
              "25   Despicable Trump Suggests Female Senator Woul...  ...     0\n",
              "26   Accused Child Molesting Senate Candidate Roy ...  ...     0\n",
              "27   WATCH: Fox Host Calls For A ‘Cleansing’ Of Th...  ...     0\n",
              "28   Liberal Group Trolls Trump At Roy Moore Rally...  ...     0\n",
              "29   Don Jr. Tries To Mock Al Franken’s Resignatio...  ...     0\n",
              "30   BREAKING: Cop Finally Gets His Due, Walter Sc...  ...     0\n",
              "31   Watch: Is This Proof Trump Is Unfit for Service?  ...     0\n",
              "32   Trump Completely SCREWS The Middle East Peace...  ...     0\n",
              "33   Trump Only Cares About Trump; Why He Is Recog...  ...     0\n",
              "34   Watch: Trump Supporting Coal CEO Upset Trump ...  ...     0\n",
              "35   Sitting GOP Senator Has Had ENOUGH, Donates T...  ...     0\n",
              "36   Republican National Committee: Better A Pedop...  ...     0\n",
              "37   Donald Trump’s Eating Habits Could Be Dramati...  ...     0\n",
              "38   John McCain Wanted Another 74 Twitter Followe...  ...     0\n",
              "39   This Sarah Huckabee Sanders Tweet About Attac...  ...     0\n",
              "40   FBI Agents Destroy Donald Trump After He Atta...  ...     0\n",
              "41   ‘Ghost Of Witness Flipped’: Hilarious SNL Ski...  ...     0\n",
              "42   Leaked Email Proves Trump Officials Aware Rus...  ...     0\n",
              "43   Trump Just Admitted He Knew Flynn Lied To The...  ...     0\n",
              "44   Watch This Awesome Mashup of Michael Flynn Le...  ...     0\n",
              "45   White House Panics Knowing Flynn Is Going To ...  ...     0\n",
              "46   BREAKING: Michael Flynn CRACKS – Will Testify...  ...     0\n",
              "47   Trump Gets An Epic F**ck You From Britain Ove...  ...     0\n",
              "48   This Hilarious Campaign Ad Shows Voters How T...  ...     0\n",
              "49   Joe Scarborough: It’s Not Our Imagination – T...  ...     0\n",
              "\n",
              "[50 rows x 5 columns]"
            ]
          },
          "metadata": {},
          "execution_count": 67
        }
      ]
    },
    {
      "cell_type": "code",
      "metadata": {
        "colab": {
          "base_uri": "https://localhost:8080/"
        },
        "id": "1qE7aVKZJ4NV",
        "outputId": "6414c87c-8d74-4647-e0c8-c835030b527a"
      },
      "source": [
        "df_marge.columns"
      ],
      "execution_count": null,
      "outputs": [
        {
          "output_type": "execute_result",
          "data": {
            "text/plain": [
              "Index(['title', 'text', 'subject', 'date', 'class'], dtype='object')"
            ]
          },
          "metadata": {},
          "execution_count": 19
        }
      ]
    },
    {
      "cell_type": "code",
      "metadata": {
        "colab": {
          "base_uri": "https://localhost:8080/"
        },
        "id": "_bx6VILqAPc6",
        "outputId": "06ac9675-aa52-49ce-fe3a-ac2fab4ea5da"
      },
      "source": [
        "df_marge.dtypes"
      ],
      "execution_count": null,
      "outputs": [
        {
          "output_type": "execute_result",
          "data": {
            "text/plain": [
              "title      object\n",
              "text       object\n",
              "subject    object\n",
              "date       object\n",
              "class       int64\n",
              "dtype: object"
            ]
          },
          "metadata": {},
          "execution_count": 20
        }
      ]
    },
    {
      "cell_type": "markdown",
      "metadata": {
        "id": "NIiE6Zjdk1Jv"
      },
      "source": [
        "#### We are going to drop  \"title\",  \"subject\" and \"date\" columns which are not  required for detecting the fake news, "
      ]
    },
    {
      "cell_type": "code",
      "metadata": {
        "id": "acgpKV7eKHYl"
      },
      "source": [
        "df = df_marge.drop([\"title\", \"subject\",\"date\"], axis = 1)"
      ],
      "execution_count": null,
      "outputs": []
    },
    {
      "cell_type": "code",
      "metadata": {
        "colab": {
          "base_uri": "https://localhost:8080/"
        },
        "id": "LYdwt-9_KIyB",
        "outputId": "fbc97779-1b01-49f3-e73a-40e6407a8b44"
      },
      "source": [
        "df.isnull().sum()"
      ],
      "execution_count": null,
      "outputs": [
        {
          "output_type": "execute_result",
          "data": {
            "text/plain": [
              "text     0\n",
              "class    0\n",
              "dtype: int64"
            ]
          },
          "metadata": {},
          "execution_count": 22
        }
      ]
    },
    {
      "cell_type": "markdown",
      "metadata": {
        "id": "9OE10g8TlJTb"
      },
      "source": [
        "#### We are randomly shuffling the dataframe "
      ]
    },
    {
      "cell_type": "code",
      "metadata": {
        "id": "sANRH8V6KPy6"
      },
      "source": [
        "df = df.sample(frac =1)"
      ],
      "execution_count": null,
      "outputs": []
    },
    {
      "cell_type": "code",
      "metadata": {
        "colab": {
          "base_uri": "https://localhost:8080/",
          "height": 206
        },
        "id": "hGZxQtquKbLD",
        "outputId": "2c885ec7-b29c-4739-b2d0-02f13518a388"
      },
      "source": [
        "df.head()"
      ],
      "execution_count": null,
      "outputs": [
        {
          "output_type": "execute_result",
          "data": {
            "text/html": [
              "<div>\n",
              "<style scoped>\n",
              "    .dataframe tbody tr th:only-of-type {\n",
              "        vertical-align: middle;\n",
              "    }\n",
              "\n",
              "    .dataframe tbody tr th {\n",
              "        vertical-align: top;\n",
              "    }\n",
              "\n",
              "    .dataframe thead th {\n",
              "        text-align: right;\n",
              "    }\n",
              "</style>\n",
              "<table border=\"1\" class=\"dataframe\">\n",
              "  <thead>\n",
              "    <tr style=\"text-align: right;\">\n",
              "      <th></th>\n",
              "      <th>text</th>\n",
              "      <th>class</th>\n",
              "    </tr>\n",
              "  </thead>\n",
              "  <tbody>\n",
              "    <tr>\n",
              "      <th>720</th>\n",
              "      <td>DANANG, Vietnam (Reuters) - Whether they like ...</td>\n",
              "      <td>1</td>\n",
              "    </tr>\n",
              "    <tr>\n",
              "      <th>15462</th>\n",
              "      <td>I m a mom who grew up in Romeo, MI., the same ...</td>\n",
              "      <td>0</td>\n",
              "    </tr>\n",
              "    <tr>\n",
              "      <th>20280</th>\n",
              "      <td>MOSCOW (Reuters) - Russian Defence Minister Se...</td>\n",
              "      <td>1</td>\n",
              "    </tr>\n",
              "    <tr>\n",
              "      <th>11481</th>\n",
              "      <td>At around the 4:00 mark in the video, Maxine p...</td>\n",
              "      <td>0</td>\n",
              "    </tr>\n",
              "    <tr>\n",
              "      <th>12378</th>\n",
              "      <td>https://twitter.com/RiggsReport/status/7986862...</td>\n",
              "      <td>0</td>\n",
              "    </tr>\n",
              "  </tbody>\n",
              "</table>\n",
              "</div>"
            ],
            "text/plain": [
              "                                                    text  class\n",
              "720    DANANG, Vietnam (Reuters) - Whether they like ...      1\n",
              "15462  I m a mom who grew up in Romeo, MI., the same ...      0\n",
              "20280  MOSCOW (Reuters) - Russian Defence Minister Se...      1\n",
              "11481  At around the 4:00 mark in the video, Maxine p...      0\n",
              "12378  https://twitter.com/RiggsReport/status/7986862...      0"
            ]
          },
          "metadata": {},
          "execution_count": 24
        }
      ]
    },
    {
      "cell_type": "code",
      "metadata": {
        "id": "b1ePn4XWKdmM"
      },
      "source": [
        "df.reset_index(inplace = True)\n",
        "df.drop([\"index\"], axis = 1, inplace = True)"
      ],
      "execution_count": null,
      "outputs": []
    },
    {
      "cell_type": "code",
      "metadata": {
        "colab": {
          "base_uri": "https://localhost:8080/"
        },
        "id": "J_q9n3X1KkHB",
        "outputId": "ced9e328-5cb6-4b9c-c751-519c23cb0d11"
      },
      "source": [
        "df.columns"
      ],
      "execution_count": null,
      "outputs": [
        {
          "output_type": "execute_result",
          "data": {
            "text/plain": [
              "Index(['text', 'class'], dtype='object')"
            ]
          },
          "metadata": {},
          "execution_count": 26
        }
      ]
    },
    {
      "cell_type": "code",
      "metadata": {
        "colab": {
          "base_uri": "https://localhost:8080/",
          "height": 206
        },
        "id": "RYkoE3uVKmvO",
        "outputId": "30d6aeb9-5853-4edf-e0b0-f042d273959b"
      },
      "source": [
        "df.head()"
      ],
      "execution_count": null,
      "outputs": [
        {
          "output_type": "execute_result",
          "data": {
            "text/html": [
              "<div>\n",
              "<style scoped>\n",
              "    .dataframe tbody tr th:only-of-type {\n",
              "        vertical-align: middle;\n",
              "    }\n",
              "\n",
              "    .dataframe tbody tr th {\n",
              "        vertical-align: top;\n",
              "    }\n",
              "\n",
              "    .dataframe thead th {\n",
              "        text-align: right;\n",
              "    }\n",
              "</style>\n",
              "<table border=\"1\" class=\"dataframe\">\n",
              "  <thead>\n",
              "    <tr style=\"text-align: right;\">\n",
              "      <th></th>\n",
              "      <th>text</th>\n",
              "      <th>class</th>\n",
              "    </tr>\n",
              "  </thead>\n",
              "  <tbody>\n",
              "    <tr>\n",
              "      <th>0</th>\n",
              "      <td>DANANG, Vietnam (Reuters) - Whether they like ...</td>\n",
              "      <td>1</td>\n",
              "    </tr>\n",
              "    <tr>\n",
              "      <th>1</th>\n",
              "      <td>I m a mom who grew up in Romeo, MI., the same ...</td>\n",
              "      <td>0</td>\n",
              "    </tr>\n",
              "    <tr>\n",
              "      <th>2</th>\n",
              "      <td>MOSCOW (Reuters) - Russian Defence Minister Se...</td>\n",
              "      <td>1</td>\n",
              "    </tr>\n",
              "    <tr>\n",
              "      <th>3</th>\n",
              "      <td>At around the 4:00 mark in the video, Maxine p...</td>\n",
              "      <td>0</td>\n",
              "    </tr>\n",
              "    <tr>\n",
              "      <th>4</th>\n",
              "      <td>https://twitter.com/RiggsReport/status/7986862...</td>\n",
              "      <td>0</td>\n",
              "    </tr>\n",
              "  </tbody>\n",
              "</table>\n",
              "</div>"
            ],
            "text/plain": [
              "                                                text  class\n",
              "0  DANANG, Vietnam (Reuters) - Whether they like ...      1\n",
              "1  I m a mom who grew up in Romeo, MI., the same ...      0\n",
              "2  MOSCOW (Reuters) - Russian Defence Minister Se...      1\n",
              "3  At around the 4:00 mark in the video, Maxine p...      0\n",
              "4  https://twitter.com/RiggsReport/status/7986862...      0"
            ]
          },
          "metadata": {},
          "execution_count": 27
        }
      ]
    },
    {
      "cell_type": "markdown",
      "metadata": {
        "id": "oH_FR-hLlY92"
      },
      "source": [
        "### **Preprocessing the data**\n",
        "#### we are creating a function to convert the text in lowercase and remove all the extra data such as : extra space, special chr., ulr and links."
      ]
    },
    {
      "cell_type": "code",
      "metadata": {
        "id": "NbffgAyzKpb3"
      },
      "source": [
        "def wordopt(text):\n",
        "    text = text.lower()\n",
        "    text = re.sub('\\[.*?\\]', '', text)\n",
        "    text = re.sub(\"\\\\W\",\" \",text) \n",
        "    text = re.sub('https?://\\S+|www\\.\\S+', '', text)\n",
        "    text = re.sub('<.*?>+', '', text)\n",
        "    text = re.sub('[%s]' % re.escape(string.punctuation), '', text)\n",
        "    text = re.sub('\\n', '', text)\n",
        "    text = re.sub('\\w*\\d\\w*', '', text)    \n",
        "    return text"
      ],
      "execution_count": null,
      "outputs": []
    },
    {
      "cell_type": "code",
      "metadata": {
        "id": "26qjSsK6KtNM"
      },
      "source": [
        "df[\"text\"] = df[\"text\"].apply(wordopt)"
      ],
      "execution_count": null,
      "outputs": []
    },
    {
      "cell_type": "markdown",
      "metadata": {
        "id": "doiS5HaPmV65"
      },
      "source": [
        "####  Defining dependent and independent variable as x and y"
      ]
    },
    {
      "cell_type": "code",
      "metadata": {
        "id": "T4ncO5cIKwL_"
      },
      "source": [
        "x = df[\"text\"]\n",
        "y = df[\"class\"]"
      ],
      "execution_count": null,
      "outputs": []
    },
    {
      "cell_type": "markdown",
      "metadata": {
        "id": "doYyKo3cma88"
      },
      "source": [
        "#### Splitting the dataset into training set and testing set. "
      ]
    },
    {
      "cell_type": "code",
      "metadata": {
        "id": "caKyd92hK-qW"
      },
      "source": [
        "x_train, x_test, y_train, y_test = train_test_split(x, y, test_size=0.25)"
      ],
      "execution_count": null,
      "outputs": []
    },
    {
      "cell_type": "markdown",
      "metadata": {
        "id": "zxEvjI2amtIl"
      },
      "source": [
        "### Vectorization\n",
        "### we are converting text to vectors by using TfidVectorizer"
      ]
    },
    {
      "cell_type": "code",
      "metadata": {
        "id": "h0h-tOPoLAzy"
      },
      "source": [
        "from sklearn.feature_extraction.text import TfidfVectorizer"
      ],
      "execution_count": null,
      "outputs": []
    },
    {
      "cell_type": "code",
      "metadata": {
        "id": "v-lZWurXLA4R"
      },
      "source": [
        "vectorization = TfidfVectorizer()\n",
        "xv_train = vectorization.fit_transform(x_train)\n",
        "xv_test = vectorization.transform(x_test)"
      ],
      "execution_count": null,
      "outputs": []
    },
    {
      "cell_type": "markdown",
      "metadata": {
        "id": "FjoUoGqcnKXu"
      },
      "source": [
        "# Training the data \n",
        "### we are training the data with 4 different models such as:"
      ]
    },
    {
      "cell_type": "markdown",
      "metadata": {
        "id": "lfLEkRaknGLL"
      },
      "source": [
        "### 1. Logistic Regression"
      ]
    },
    {
      "cell_type": "code",
      "metadata": {
        "colab": {
          "base_uri": "https://localhost:8080/"
        },
        "id": "JD40XVYSLFlP",
        "outputId": "07c04a7a-4067-4732-99d2-bd6df3b8a25c"
      },
      "source": [
        "from sklearn.linear_model import LogisticRegression\n",
        "LR = LogisticRegression()\n",
        "LR.fit(xv_train,y_train)"
      ],
      "execution_count": null,
      "outputs": [
        {
          "output_type": "execute_result",
          "data": {
            "text/plain": [
              "LogisticRegression()"
            ]
          },
          "metadata": {},
          "execution_count": 34
        }
      ]
    },
    {
      "cell_type": "code",
      "metadata": {
        "id": "ILsKz5KxLLKT"
      },
      "source": [
        "pred_lr=LR.predict(xv_test)"
      ],
      "execution_count": null,
      "outputs": []
    },
    {
      "cell_type": "code",
      "metadata": {
        "colab": {
          "base_uri": "https://localhost:8080/"
        },
        "id": "S5stW8I7LQZu",
        "outputId": "5f1e512e-6325-4693-da09-75905c0ce287"
      },
      "source": [
        "LR.score(xv_test, y_test)"
      ],
      "execution_count": null,
      "outputs": [
        {
          "output_type": "execute_result",
          "data": {
            "text/plain": [
              "0.9873496659242762"
            ]
          },
          "metadata": {},
          "execution_count": 36
        }
      ]
    },
    {
      "cell_type": "code",
      "metadata": {
        "colab": {
          "base_uri": "https://localhost:8080/"
        },
        "id": "70PxKV0rkGVN",
        "outputId": "c4baba5d-4e95-4906-9ff3-3e6e670857f4"
      },
      "source": [
        "# calculating the accucary of the model\n",
        "from sklearn.metrics import accuracy_score\n",
        "accuracy_score(y_test, pred_lr)"
      ],
      "execution_count": null,
      "outputs": [
        {
          "output_type": "execute_result",
          "data": {
            "text/plain": [
              "0.9873496659242762"
            ]
          },
          "metadata": {},
          "execution_count": 37
        }
      ]
    },
    {
      "cell_type": "code",
      "metadata": {
        "colab": {
          "base_uri": "https://localhost:8080/"
        },
        "id": "aUWJCPLTpGWo",
        "outputId": "41cd28a1-f8de-456d-fe2d-5f61e298c47d"
      },
      "source": [
        "# printing Confusion matrix of the model\n",
        "from sklearn.metrics import confusion_matrix\n",
        "confusion_matrix = confusion_matrix(y_test, pred_lr)\n",
        "print(confusion_matrix)"
      ],
      "execution_count": null,
      "outputs": [
        {
          "output_type": "stream",
          "name": "stdout",
          "text": [
            "[[5843   79]\n",
            " [  63 5240]]\n"
          ]
        }
      ]
    },
    {
      "cell_type": "code",
      "metadata": {
        "colab": {
          "base_uri": "https://localhost:8080/"
        },
        "id": "zcxbOJYULSWQ",
        "outputId": "ab146286-bf68-4283-afd8-19c549d6ca08"
      },
      "source": [
        "# printing Classification report\n",
        "print(classification_report(y_test, pred_lr))"
      ],
      "execution_count": null,
      "outputs": [
        {
          "output_type": "stream",
          "name": "stdout",
          "text": [
            "              precision    recall  f1-score   support\n",
            "\n",
            "           0       0.99      0.99      0.99      5922\n",
            "           1       0.99      0.99      0.99      5303\n",
            "\n",
            "    accuracy                           0.99     11225\n",
            "   macro avg       0.99      0.99      0.99     11225\n",
            "weighted avg       0.99      0.99      0.99     11225\n",
            "\n"
          ]
        }
      ]
    },
    {
      "cell_type": "markdown",
      "metadata": {
        "id": "DXkUM4w4noqp"
      },
      "source": [
        "### 2. Decision Tree Classification"
      ]
    },
    {
      "cell_type": "code",
      "metadata": {
        "id": "Ex-YWDu3LgBx"
      },
      "source": [
        "from sklearn.tree import DecisionTreeClassifier"
      ],
      "execution_count": null,
      "outputs": []
    },
    {
      "cell_type": "code",
      "metadata": {
        "colab": {
          "base_uri": "https://localhost:8080/"
        },
        "id": "lZyTaYEkLinH",
        "outputId": "dc398f6e-e542-4478-eb6d-97ce61623752"
      },
      "source": [
        "DT = DecisionTreeClassifier()\n",
        "DT.fit(xv_train, y_train)"
      ],
      "execution_count": null,
      "outputs": [
        {
          "output_type": "execute_result",
          "data": {
            "text/plain": [
              "DecisionTreeClassifier()"
            ]
          },
          "metadata": {},
          "execution_count": 41
        }
      ]
    },
    {
      "cell_type": "code",
      "metadata": {
        "id": "Jq284k5cLkUl"
      },
      "source": [
        "pred_dt = DT.predict(xv_test)"
      ],
      "execution_count": null,
      "outputs": []
    },
    {
      "cell_type": "code",
      "metadata": {
        "id": "LufDWID0LmMP",
        "colab": {
          "base_uri": "https://localhost:8080/"
        },
        "outputId": "f32e7e7b-c7f7-4e75-b8d1-6fb9d06250ab"
      },
      "source": [
        "DT.score(xv_test, y_test)"
      ],
      "execution_count": null,
      "outputs": [
        {
          "output_type": "execute_result",
          "data": {
            "text/plain": [
              "0.9956347438752784"
            ]
          },
          "metadata": {},
          "execution_count": 43
        }
      ]
    },
    {
      "cell_type": "code",
      "metadata": {
        "colab": {
          "base_uri": "https://localhost:8080/"
        },
        "id": "b7XgDw_jm5Q0",
        "outputId": "81847d86-9df7-4804-98c2-ce5d8e0bd927"
      },
      "source": [
        "# calculating the accucary of the model\n",
        "from sklearn.metrics import accuracy_score\n",
        "accuracy_score(y_test, pred_dt)"
      ],
      "execution_count": null,
      "outputs": [
        {
          "output_type": "execute_result",
          "data": {
            "text/plain": [
              "0.9956347438752784"
            ]
          },
          "metadata": {},
          "execution_count": 44
        }
      ]
    },
    {
      "cell_type": "code",
      "metadata": {
        "colab": {
          "base_uri": "https://localhost:8080/"
        },
        "id": "cDVTBLhgoeLR",
        "outputId": "ea85fca4-4bd9-4c3c-f2a0-f9b6e16c61d8"
      },
      "source": [
        "# printing Confusion matrix of the model\n",
        "from sklearn.metrics import confusion_matrix\n",
        "confusion_matrix = confusion_matrix(y_test, pred_dt)\n",
        "print(confusion_matrix)"
      ],
      "execution_count": null,
      "outputs": [
        {
          "output_type": "stream",
          "name": "stdout",
          "text": [
            "[[5900   22]\n",
            " [  27 5276]]\n"
          ]
        }
      ]
    },
    {
      "cell_type": "code",
      "metadata": {
        "colab": {
          "base_uri": "https://localhost:8080/"
        },
        "id": "5JdeyQw6Ln1V",
        "outputId": "a1b4eb15-0811-4732-dfe8-8d31e75e4d9c"
      },
      "source": [
        "# printing Classification report\n",
        "print(classification_report(y_test, pred_dt))"
      ],
      "execution_count": null,
      "outputs": [
        {
          "output_type": "stream",
          "name": "stdout",
          "text": [
            "              precision    recall  f1-score   support\n",
            "\n",
            "           0       1.00      1.00      1.00      5922\n",
            "           1       1.00      0.99      1.00      5303\n",
            "\n",
            "    accuracy                           1.00     11225\n",
            "   macro avg       1.00      1.00      1.00     11225\n",
            "weighted avg       1.00      1.00      1.00     11225\n",
            "\n"
          ]
        }
      ]
    },
    {
      "cell_type": "markdown",
      "metadata": {
        "id": "fepZJM-hnrZU"
      },
      "source": [
        "### 3. Gradient Boosting Classifier"
      ]
    },
    {
      "cell_type": "code",
      "metadata": {
        "id": "CZzcdLYeLqyr"
      },
      "source": [
        "from sklearn.ensemble import GradientBoostingClassifier"
      ],
      "execution_count": null,
      "outputs": []
    },
    {
      "cell_type": "code",
      "metadata": {
        "colab": {
          "base_uri": "https://localhost:8080/"
        },
        "id": "hNZPNd0GLt-K",
        "outputId": "431a4dcd-1fc8-42ca-cda1-9343cc258842"
      },
      "source": [
        "GBC = GradientBoostingClassifier(random_state=0)\n",
        "GBC.fit(xv_train, y_train)"
      ],
      "execution_count": null,
      "outputs": [
        {
          "output_type": "execute_result",
          "data": {
            "text/plain": [
              "GradientBoostingClassifier(random_state=0)"
            ]
          },
          "metadata": {},
          "execution_count": 48
        }
      ]
    },
    {
      "cell_type": "code",
      "metadata": {
        "id": "YjDjwdNGLxFL"
      },
      "source": [
        "pred_gbc = GBC.predict(xv_test)"
      ],
      "execution_count": null,
      "outputs": []
    },
    {
      "cell_type": "code",
      "metadata": {
        "colab": {
          "base_uri": "https://localhost:8080/"
        },
        "id": "ilqAgkjALzRp",
        "outputId": "16bf52ec-fa17-48cf-93d5-250efd1aca0e"
      },
      "source": [
        "GBC.score(xv_test, y_test)"
      ],
      "execution_count": null,
      "outputs": [
        {
          "output_type": "execute_result",
          "data": {
            "text/plain": [
              "0.9951002227171493"
            ]
          },
          "metadata": {},
          "execution_count": 50
        }
      ]
    },
    {
      "cell_type": "code",
      "metadata": {
        "colab": {
          "base_uri": "https://localhost:8080/"
        },
        "id": "jjDX5T0RoH7i",
        "outputId": "bf4c9918-442c-4d8b-c6e3-b0389d9f8436"
      },
      "source": [
        "# calculating the accucary of the model\n",
        "from sklearn.metrics import accuracy_score\n",
        "accuracy_score(y_test, pred_gbc)"
      ],
      "execution_count": null,
      "outputs": [
        {
          "output_type": "execute_result",
          "data": {
            "text/plain": [
              "0.9951002227171493"
            ]
          },
          "metadata": {},
          "execution_count": 51
        }
      ]
    },
    {
      "cell_type": "code",
      "metadata": {
        "colab": {
          "base_uri": "https://localhost:8080/"
        },
        "id": "IPvKud3Pofgv",
        "outputId": "003251a9-c849-4ec8-8ade-d1a4864202d3"
      },
      "source": [
        "# printing Confusion matrix of the model\n",
        "from sklearn.metrics import confusion_matrix\n",
        "confusion_matrix = confusion_matrix(y_test, pred_gbc)\n",
        "print(confusion_matrix)"
      ],
      "execution_count": null,
      "outputs": [
        {
          "output_type": "stream",
          "name": "stdout",
          "text": [
            "[[5882   40]\n",
            " [  15 5288]]\n"
          ]
        }
      ]
    },
    {
      "cell_type": "code",
      "metadata": {
        "colab": {
          "base_uri": "https://localhost:8080/"
        },
        "id": "ShhWCYhFL1KV",
        "outputId": "555ee068-abc2-46fe-8e9a-9cae7acd1f51"
      },
      "source": [
        "# printing Classification report\n",
        "print(classification_report(y_test, pred_gbc))"
      ],
      "execution_count": null,
      "outputs": [
        {
          "output_type": "stream",
          "name": "stdout",
          "text": [
            "              precision    recall  f1-score   support\n",
            "\n",
            "           0       1.00      0.99      1.00      5922\n",
            "           1       0.99      1.00      0.99      5303\n",
            "\n",
            "    accuracy                           1.00     11225\n",
            "   macro avg       0.99      1.00      1.00     11225\n",
            "weighted avg       1.00      1.00      1.00     11225\n",
            "\n"
          ]
        }
      ]
    },
    {
      "cell_type": "markdown",
      "metadata": {
        "id": "7TWaTAzNnvWp"
      },
      "source": [
        "### 4. Random Forest Classifier"
      ]
    },
    {
      "cell_type": "code",
      "metadata": {
        "id": "rcQxo8BaL1Rq"
      },
      "source": [
        "from sklearn.ensemble import RandomForestClassifier"
      ],
      "execution_count": null,
      "outputs": []
    },
    {
      "cell_type": "code",
      "metadata": {
        "colab": {
          "base_uri": "https://localhost:8080/"
        },
        "id": "O9bR8JxcL523",
        "outputId": "ef8c9877-a6c8-4782-8017-455a2750babf"
      },
      "source": [
        "RFC = RandomForestClassifier(random_state=0)\n",
        "RFC.fit(xv_train, y_train)"
      ],
      "execution_count": null,
      "outputs": [
        {
          "output_type": "execute_result",
          "data": {
            "text/plain": [
              "RandomForestClassifier(random_state=0)"
            ]
          },
          "metadata": {},
          "execution_count": 55
        }
      ]
    },
    {
      "cell_type": "code",
      "metadata": {
        "id": "EDwkevmFL73L"
      },
      "source": [
        "pred_rfc = RFC.predict(xv_test)"
      ],
      "execution_count": null,
      "outputs": []
    },
    {
      "cell_type": "code",
      "metadata": {
        "colab": {
          "base_uri": "https://localhost:8080/"
        },
        "id": "Bf09cns9L9z4",
        "outputId": "61ad0379-2cae-400a-bd45-4fbc5697be7c"
      },
      "source": [
        "RFC.score(xv_test, y_test)"
      ],
      "execution_count": null,
      "outputs": [
        {
          "output_type": "execute_result",
          "data": {
            "text/plain": [
              "0.9894877505567928"
            ]
          },
          "metadata": {},
          "execution_count": 58
        }
      ]
    },
    {
      "cell_type": "code",
      "metadata": {
        "colab": {
          "base_uri": "https://localhost:8080/"
        },
        "id": "4pX-CarGpM38",
        "outputId": "f205f073-2786-447a-eb3e-2b8741b1b62e"
      },
      "source": [
        "# calculating the accucary of the model\n",
        "from sklearn.metrics import accuracy_score\n",
        "accuracy_score(y_test, pred_rfc)"
      ],
      "execution_count": null,
      "outputs": [
        {
          "output_type": "execute_result",
          "data": {
            "text/plain": [
              "0.9894877505567928"
            ]
          },
          "metadata": {},
          "execution_count": 57
        }
      ]
    },
    {
      "cell_type": "code",
      "metadata": {
        "colab": {
          "base_uri": "https://localhost:8080/"
        },
        "id": "27_qu9m9pNER",
        "outputId": "31a08f86-1da1-47ff-cf9e-9fd8a1f6038f"
      },
      "source": [
        "# printing Confusion matrix of the model\n",
        "from sklearn.metrics import confusion_matrix\n",
        "confusion_matrix = confusion_matrix(y_test, pred_rfc)\n",
        "print(confusion_matrix)"
      ],
      "execution_count": null,
      "outputs": [
        {
          "output_type": "stream",
          "name": "stdout",
          "text": [
            "[[5857   65]\n",
            " [  53 5250]]\n"
          ]
        }
      ]
    },
    {
      "cell_type": "code",
      "metadata": {
        "colab": {
          "base_uri": "https://localhost:8080/"
        },
        "id": "lzvwBChGL_vn",
        "outputId": "203438fe-e14e-4183-c16f-225150bcb07d"
      },
      "source": [
        "# printing Classification report\n",
        "print(classification_report(y_test, pred_rfc))"
      ],
      "execution_count": null,
      "outputs": [
        {
          "output_type": "stream",
          "name": "stdout",
          "text": [
            "              precision    recall  f1-score   support\n",
            "\n",
            "           0       0.99      0.99      0.99      5922\n",
            "           1       0.99      0.99      0.99      5303\n",
            "\n",
            "    accuracy                           0.99     11225\n",
            "   macro avg       0.99      0.99      0.99     11225\n",
            "weighted avg       0.99      0.99      0.99     11225\n",
            "\n"
          ]
        }
      ]
    },
    {
      "cell_type": "markdown",
      "metadata": {
        "id": "FEtOFCDjn1gB"
      },
      "source": [
        "# Model Testing With Manual Entry\n",
        "\n",
        "### News"
      ]
    },
    {
      "cell_type": "code",
      "metadata": {
        "id": "Eo633ADgNxvw"
      },
      "source": [
        "# Defining the output of the result\n",
        "def output_lable(n):\n",
        "    if n == 0:\n",
        "        return \"Fake News\"\n",
        "    elif n == 1:\n",
        "        return \"Not A Fake News\"\n",
        "# Defining the manual test function    \n",
        "def manual_testing(news):\n",
        "    testing_news = {\"text\":[news]}\n",
        "    new_def_test = pd.DataFrame(testing_news)\n",
        "    new_def_test[\"text\"] = new_def_test[\"text\"].apply(wordopt) \n",
        "    new_x_test = new_def_test[\"text\"]\n",
        "    new_xv_test = vectorization.transform(new_x_test)\n",
        "    pred_LR = LR.predict(new_xv_test)\n",
        "    pred_DT = DT.predict(new_xv_test)\n",
        "    pred_GBC = GBC.predict(new_xv_test)\n",
        "    pred_RFC = RFC.predict(new_xv_test)\n",
        "\n",
        "    return print(\"\\n\\nLogistic Regression Prediction: {} \\nDecision Tree Classification Prediction: {} \\nGradient Boosting Classifier Prediction: {} \\nRandom Forest Classifier Prediction: {}\".format(output_lable(pred_LR[0]), \n",
        "                                                                                                              output_lable(pred_DT[0]), \n",
        "                                                                                                              output_lable(pred_GBC[0]), \n",
        "                                                                                                              output_lable(pred_RFC[0])))"
      ],
      "execution_count": null,
      "outputs": []
    },
    {
      "cell_type": "markdown",
      "metadata": {
        "id": "A9Y2t3mNZoR4"
      },
      "source": [
        "# Checking the news wheather its fake or real\n",
        "### Manual testing"
      ]
    },
    {
      "cell_type": "code",
      "metadata": {
        "colab": {
          "base_uri": "https://localhost:8080/"
        },
        "id": "2LrjdugZN2vv",
        "outputId": "934d3b5e-ef33-4911-bd5f-f392fde114c8"
      },
      "source": [
        "news = str(input())\n",
        "manual_testing(news)\n"
      ],
      "execution_count": null,
      "outputs": [
        {
          "output_type": "stream",
          "name": "stdout",
          "text": [
            "SAO PAULO (Reuters) - Cesar Mata Pires, the owner and co-founder of Brazilian engineering conglomerate OAS SA, one of the largest companies involved in Brazil s corruption scandal, died on Tuesday. He was 68. Mata Pires died of a heart attack while taking a morning walk in an upscale district of S o Paulo, where OAS is based, a person with direct knowledge of the matter said. Efforts to contact his family were unsuccessful. OAS declined to comment. The son of a wealthy cattle rancher in the northeastern state of Bahia, Mata Pires  links to politicians were central to the expansion of OAS, which became Brazil s No. 4 builder earlier this decade, people familiar with his career told Reuters last year. His big break came when he befriended Antonio Carlos Magalh es, a popular politician who was Bahia governor several times, and eventually married his daughter Tereza. Brazilians joked that OAS stood for  Obras Arranjadas pelo Sogro  - or  Work Arranged by the Father-In-Law.   After years of steady growth triggered by a flurry of massive government contracts, OAS was ensnared in Operation Car Wash which unearthed an illegal contracting ring between state firms and builders. The ensuing scandal helped topple former Brazilian President Dilma Rousseff last year. Trained as an engineer, Mata Pires founded OAS with two colleagues in 1976 to do sub-contracting work for larger rival Odebrecht SA - the biggest of the builders involved in the probe.  Before the scandal, Forbes magazine estimated Mata Pires  fortune at $1.6 billion. He dropped off the magazine s billionaire list in 2015, months after OAS sought bankruptcy protection after the Car Wash scandal. While Mata Pires was never accused of wrongdoing in the investigations, creditors demanded he and his family stay away from the builder s day-to-day operations, people directly involved in the negotiations told Reuters at the time. He is survived by his wife and his two sons.\n",
            "\n",
            "\n",
            "Logistic Regression Prediction: Not A Fake News \n",
            "Decision Tree Classification Prediction: Not A Fake News \n",
            "Gradient Boosting Classifier Prediction: Not A Fake News \n",
            "Random Forest Classifier Prediction: Not A Fake News\n"
          ]
        }
      ]
    }
  ]
}